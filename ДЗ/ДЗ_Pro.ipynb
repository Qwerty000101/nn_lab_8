{
 "cells": [
  {
   "cell_type": "markdown",
   "metadata": {
    "id": "view-in-github"
   },
   "source": [
    "<a href=\"https://colab.research.google.com/github/Artorias1469/NN_2/blob/main/%D0%91%D0%B0%D0%B7%D0%BE%D0%B2%D1%8B%D0%B9_%D0%B1%D0%BB%D0%BE%D0%BA_%D0%9E%D0%B1%D1%80%D0%B0%D0%B1%D0%BE%D1%82%D0%BA%D0%B0_%D0%B0%D1%83%D0%B4%D0%B8%D0%BE%D1%81%D0%B8%D0%B3%D0%BD%D0%B0%D0%BB%D0%BE%D0%B2_%D1%81_%D0%BF%D0%BE%D0%BC%D0%BE%D1%89%D1%8C%D1%8E_%D0%BD%D0%B5%D0%B9%D1%80%D0%BE%D0%BD%D0%BD%D1%8B%D1%85_%D1%81%D0%B5%D1%82%D0%B5%D0%B9_%D0%94%D0%97_Pro.ipynb\" target=\"_parent\"><img src=\"https://colab.research.google.com/assets/colab-badge.svg\" alt=\"Open In Colab\"/></a>"
   ]
  },
  {
   "cell_type": "markdown",
   "metadata": {
    "id": "ovOMUqWP2izb"
   },
   "source": [
    "Используя базу \"Аудиожанры\", примените подход к музыке как к тексту и напишите сверточный классификатор (на базе слоя Conv1D) для подготовленных данных. Для этого:\n",
    "\n",
    "1. Измените подготовку данных так, чтобы набор признаков, извлекаемый из аудиофайла, был представлен в виде последовательностей векторов признаков. Последовательности должны быть фиксированного размера и выбираться скользящим окном c заданным шагом. Другими словами: берем аудио-файл длительность, например, 30 сек. Берем отрезок фиксированной длины (например, 5с) и получаем набор признаков для этого отрезка. Смещаемся на шаг (например, 1с) и берем следующий отрезок. Таким образом готовим обучающую вборку.\n",
    "2. Длину последовательности, размер шага и достаточный набор признаков определите самостоятельно исходя из требований к точности классификатора;\n",
    "3. Разработайте классификатор на одномерных сверточных слоях **Conv1D** с точностью классификации жанра на тестовых данных не ниже **60%**, а на обучающих файлах - **68%** и выше;\n",
    "4. Используйте за основу материал с урока, но при желании разработайте свои инструменты."
   ]
  },
  {
   "cell_type": "markdown",
   "metadata": {
    "id": "_XxR71u8eXyD"
   },
   "source": [
    "Импортируем необходимые библиотеки:"
   ]
  },
  {
   "cell_type": "code",
   "execution_count": null,
   "metadata": {
    "execution": {
     "iopub.execute_input": "2025-05-25T23:13:47.569466Z",
     "iopub.status.busy": "2025-05-25T23:13:47.569308Z",
     "iopub.status.idle": "2025-05-25T23:14:04.049076Z",
     "shell.execute_reply": "2025-05-25T23:14:04.048347Z",
     "shell.execute_reply.started": "2025-05-25T23:13:47.569450Z"
    },
    "id": "xWiCMHe2LPU4",
    "trusted": true
   },
   "outputs": [],
   "source": [
    "# Импорты для работы с данными\n",
    "import os\n",
    "import pickle\n",
    "import zipfile\n",
    "\n",
    "# Импорты для загрузки данных\n",
    "import gdown\n",
    "# Импорты для работы с аудио\n",
    "import librosa\n",
    "# Импорты для визуализации\n",
    "import matplotlib.pyplot as plt\n",
    "import numpy as np\n",
    "# Импорты для машинного обучения\n",
    "from sklearn.metrics import ConfusionMatrixDisplay, confusion_matrix\n",
    "from sklearn.model_selection import train_test_split\n",
    "from sklearn.preprocessing import LabelEncoder, StandardScaler\n",
    "# Импорты для нейронных сетей\n",
    "from tensorflow.keras.layers import (BatchNormalization, Conv1D, Dense,\n",
    "                                     Dropout, Flatten, Input, MaxPooling1D)\n",
    "from tensorflow.keras.models import Sequential\n",
    "from tensorflow.keras.optimizers import Adam\n",
    "from tensorflow.keras.utils import to_categorical\n"
   ]
  },
  {
   "cell_type": "markdown",
   "metadata": {},
   "source": [
    "## Загрузка и распаковка датасета"
   ]
  },
  {
   "cell_type": "markdown",
   "metadata": {},
   "source": [
    "Датасет с аудиофайлами музыкальных жанров будет скачан из облачного хранилища и распакован в локальную директорию"
   ]
  },
  {
   "cell_type": "code",
   "execution_count": 3,
   "metadata": {},
   "outputs": [],
   "source": [
    "def download_and_extract(url, output_dir):\n",
    "    \"\"\"Скачивает и распаковывает архив с датасетом\"\"\"\n",
    "    # Создаем папку для данных, если ее нет\n",
    "    if not os.path.exists(output_dir):\n",
    "        os.makedirs(output_dir)\n",
    "    \n",
    "    # Путь для сохранения архива\n",
    "    zip_path = os.path.join(output_dir, 'dataset.zip')\n",
    "    \n",
    "    # Скачиваем архив\n",
    "    print(\"Скачивание архива...\")\n",
    "    gdown.download(url, zip_path, quiet=False)\n",
    "    \n",
    "    # Распаковываем архив\n",
    "    print(\"Распаковка архива...\")\n",
    "    with zipfile.ZipFile(zip_path, 'r') as zip_ref:\n",
    "        zip_ref.extractall(output_dir)\n",
    "    \n",
    "    # Удаляем архив\n",
    "    os.remove(zip_path)\n",
    "    print(\"Датасет готов к использованию\")"
   ]
  },
  {
   "cell_type": "code",
   "execution_count": 4,
   "metadata": {},
   "outputs": [
    {
     "name": "stdout",
     "output_type": "stream",
     "text": [
      "Скачивание архива...\n"
     ]
    },
    {
     "name": "stderr",
     "output_type": "stream",
     "text": [
      "Downloading...\n",
      "From: https://storage.yandexcloud.net/aiueducation/Content/base/l12/genres.zip\n",
      "To: c:\\Users\\HAIER\\Desktop\\Задания\\Основы нейронных сетей\\Занятие 8\\nn_lab_8\\ДЗ\\genres\\dataset.zip\n",
      "100%|██████████| 1.23G/1.23G [03:28<00:00, 5.88MB/s]\n"
     ]
    },
    {
     "name": "stdout",
     "output_type": "stream",
     "text": [
      "Распаковка архива...\n",
      "Датасет готов к использованию\n"
     ]
    }
   ],
   "source": [
    "# Загрузка и распаковка архива\n",
    "download_and_extract('https://storage.yandexcloud.net/aiueducation/Content/base/l12/genres.zip', 'genres')"
   ]
  },
  {
   "cell_type": "markdown",
   "metadata": {},
   "source": [
    "## Подготовка данных"
   ]
  },
  {
   "cell_type": "markdown",
   "metadata": {},
   "source": [
    "Для обработки аудиофайлов будем использовать следующие параметры:\n",
    "- WINDOW_SIZE = 5 сек - размер анализируемого окна\n",
    "- STEP_SIZE = 1 сек - шаг скользящего окна\n",
    "- SR = 22050 - частота дискретизации\n",
    "- N_MFCC = 13 - количество MFCC-коэффициентов"
   ]
  },
  {
   "cell_type": "code",
   "execution_count": null,
   "metadata": {
    "colab": {
     "base_uri": "https://localhost:8080/"
    },
    "execution": {
     "iopub.execute_input": "2025-05-25T23:14:04.051204Z",
     "iopub.status.busy": "2025-05-25T23:14:04.050741Z",
     "iopub.status.idle": "2025-05-25T23:18:45.745217Z",
     "shell.execute_reply": "2025-05-25T23:18:45.744442Z",
     "shell.execute_reply.started": "2025-05-25T23:14:04.051184Z"
    },
    "id": "NNP3sfwBIEos",
    "outputId": "c6723289-7a7d-4fd6-9bfb-fa76fd33a8aa",
    "trusted": true
   },
   "outputs": [
    {
     "name": "stdout",
     "output_type": "stream",
     "text": [
      "Признаки: (25990, 216, 13)\n",
      "Метки: (25990,)\n"
     ]
    }
   ],
   "source": [
    "# Параметры обработки аудио\n",
    "WINDOW_SIZE = 5       # Длина анализируемого окна в секундах\n",
    "STEP_SIZE = 1         # Шаг скользящего окна в секундах  \n",
    "SR = 22050            # Частота дискретизации аудио\n",
    "N_MFCC = 13           # Количество MFCC-коэффициентов\n",
    "\n",
    "# Вычисление параметров в сэмплах\n",
    "samples_per_window = WINDOW_SIZE * SR\n",
    "step_samples = STEP_SIZE * SR\n",
    "\n",
    "# Списки для признаков и меток\n",
    "X = []\n",
    "y = []\n",
    "\n",
    "# Путь к данным\n",
    "genres_path = '/genres'\n",
    "genres = os.listdir(genres_path)\n",
    "\n",
    "# Обработка каждого файла\n",
    "for genre in genres:\n",
    "    genre_path = os.path.join(genres_path, genre)\n",
    "    for file in os.listdir(genre_path):\n",
    "        file_path = os.path.join(genre_path, file)\n",
    "        \n",
    "        # Загрузка аудиофайла\n",
    "        audio, sr = librosa.load(file_path, sr=SR)\n",
    "\n",
    "        # Извлечение признаков скользящим окном\n",
    "        for start in range(0, len(audio) - samples_per_window, step_samples):\n",
    "            window = audio[start:start + samples_per_window]\n",
    "            \n",
    "            # Извлечение MFCC-признаков\n",
    "            mfcc = librosa.feature.mfcc(y=window, sr=sr, n_mfcc=N_MFCC)\n",
    "            mfcc = mfcc.T\n",
    "            \n",
    "            # Проверка размерности и сохранение\n",
    "            if mfcc.shape[0] == 216:\n",
    "                X.append(mfcc)\n",
    "                y.append(genre)\n",
    "\n",
    "# Преобразование в numpy массивы\n",
    "X = np.array(X)\n",
    "y = np.array(y)\n",
    "\n",
    "print(\"Размерность признаков:\", X.shape)\n",
    "print(\"Размерность меток:\", y.shape)"
   ]
  },
  {
   "cell_type": "markdown",
   "metadata": {},
   "source": [
    "Перед обучением модели необходимо:\n",
    "1. Закодировать метки классов\n",
    "2. Нормализовать признаки\n",
    "3. Разделить данные на обучающую и тестовую выборки"
   ]
  },
  {
   "cell_type": "code",
   "execution_count": 3,
   "metadata": {
    "execution": {
     "iopub.execute_input": "2025-05-25T23:18:45.746662Z",
     "iopub.status.busy": "2025-05-25T23:18:45.746093Z",
     "iopub.status.idle": "2025-05-25T23:18:47.624591Z",
     "shell.execute_reply": "2025-05-25T23:18:47.623871Z",
     "shell.execute_reply.started": "2025-05-25T23:18:45.746639Z"
    },
    "id": "9O_S7KJLIRVf",
    "trusted": true
   },
   "outputs": [
    {
     "name": "stdout",
     "output_type": "stream",
     "text": [
      "Train shape: (20792, 216, 13)\n",
      "Test shape: (5198, 216, 13)\n"
     ]
    }
   ],
   "source": [
    "# Кодировка меток\n",
    "le = LabelEncoder()\n",
    "y_encoded = le.fit_transform(y)\n",
    "y_cat = to_categorical(y_encoded)\n",
    "\n",
    "# Масштабирование признаков\n",
    "scaler = StandardScaler()\n",
    "n_samples, n_frames, n_features = X.shape\n",
    "X_reshaped = X.reshape(-1, n_features)\n",
    "X_scaled = scaler.fit_transform(X_reshaped).reshape(n_samples, n_frames, n_features)\n",
    "\n",
    "X_train, X_test, y_train, y_test = train_test_split(X_scaled, y_cat, \n",
    "                                                    test_size=0.2, \n",
    "                                                    random_state=42, \n",
    "                                                    stratify=y_cat)\n",
    "print(\"Train shape:\", X_train.shape)\n",
    "print(\"Test shape:\", X_test.shape)\n"
   ]
  },
  {
   "cell_type": "markdown",
   "metadata": {},
   "source": [
    "## Обучение модели и оценка "
   ]
  },
  {
   "cell_type": "markdown",
   "metadata": {},
   "source": [
    "Использована сверточная нейронная сеть с архитектурой:\n",
    "1. Conv1D (64 фильтра) + BatchNorm + MaxPooling + Dropout\n",
    "2. Conv1D (128 фильтров) + BatchNorm + MaxPooling + Dropout  \n",
    "3. Полносвязные слои для классификации"
   ]
  },
  {
   "cell_type": "code",
   "execution_count": 4,
   "metadata": {
    "colab": {
     "base_uri": "https://localhost:8080/",
     "height": 545
    },
    "execution": {
     "iopub.execute_input": "2025-05-25T23:18:47.625613Z",
     "iopub.status.busy": "2025-05-25T23:18:47.625388Z",
     "iopub.status.idle": "2025-05-25T23:27:09.506279Z",
     "shell.execute_reply": "2025-05-25T23:27:09.505732Z",
     "shell.execute_reply.started": "2025-05-25T23:18:47.625589Z"
    },
    "id": "VgfbttTRIWue",
    "outputId": "d9831209-4692-434c-eba0-9365091ab124",
    "trusted": true
   },
   "outputs": [
    {
     "name": "stderr",
     "output_type": "stream",
     "text": [
      "I0000 00:00:1748215128.637424      35 gpu_device.cc:2022] Created device /job:localhost/replica:0/task:0/device:GPU:0 with 15513 MB memory:  -> device: 0, name: Tesla P100-PCIE-16GB, pci bus id: 0000:00:04.0, compute capability: 6.0\n"
     ]
    },
    {
     "data": {
      "text/html": [
       "<pre style=\"white-space:pre;overflow-x:auto;line-height:normal;font-family:Menlo,'DejaVu Sans Mono',consolas,'Courier New',monospace\"><span style=\"font-weight: bold\">Model: \"sequential\"</span>\n",
       "</pre>\n"
      ],
      "text/plain": [
       "\u001b[1mModel: \"sequential\"\u001b[0m\n"
      ]
     },
     "metadata": {},
     "output_type": "display_data"
    },
    {
     "data": {
      "text/html": [
       "<pre style=\"white-space:pre;overflow-x:auto;line-height:normal;font-family:Menlo,'DejaVu Sans Mono',consolas,'Courier New',monospace\">┏━━━━━━━━━━━━━━━━━━━━━━━━━━━━━━━━━━━━━━┳━━━━━━━━━━━━━━━━━━━━━━━━━━━━━┳━━━━━━━━━━━━━━━━━┓\n",
       "┃<span style=\"font-weight: bold\"> Layer (type)                         </span>┃<span style=\"font-weight: bold\"> Output Shape                </span>┃<span style=\"font-weight: bold\">         Param # </span>┃\n",
       "┡━━━━━━━━━━━━━━━━━━━━━━━━━━━━━━━━━━━━━━╇━━━━━━━━━━━━━━━━━━━━━━━━━━━━━╇━━━━━━━━━━━━━━━━━┩\n",
       "│ conv1d (<span style=\"color: #0087ff; text-decoration-color: #0087ff\">Conv1D</span>)                      │ (<span style=\"color: #00d7ff; text-decoration-color: #00d7ff\">None</span>, <span style=\"color: #00af00; text-decoration-color: #00af00\">214</span>, <span style=\"color: #00af00; text-decoration-color: #00af00\">64</span>)             │           <span style=\"color: #00af00; text-decoration-color: #00af00\">2,560</span> │\n",
       "├──────────────────────────────────────┼─────────────────────────────┼─────────────────┤\n",
       "│ batch_normalization                  │ (<span style=\"color: #00d7ff; text-decoration-color: #00d7ff\">None</span>, <span style=\"color: #00af00; text-decoration-color: #00af00\">214</span>, <span style=\"color: #00af00; text-decoration-color: #00af00\">64</span>)             │             <span style=\"color: #00af00; text-decoration-color: #00af00\">256</span> │\n",
       "│ (<span style=\"color: #0087ff; text-decoration-color: #0087ff\">BatchNormalization</span>)                 │                             │                 │\n",
       "├──────────────────────────────────────┼─────────────────────────────┼─────────────────┤\n",
       "│ max_pooling1d (<span style=\"color: #0087ff; text-decoration-color: #0087ff\">MaxPooling1D</span>)         │ (<span style=\"color: #00d7ff; text-decoration-color: #00d7ff\">None</span>, <span style=\"color: #00af00; text-decoration-color: #00af00\">107</span>, <span style=\"color: #00af00; text-decoration-color: #00af00\">64</span>)             │               <span style=\"color: #00af00; text-decoration-color: #00af00\">0</span> │\n",
       "├──────────────────────────────────────┼─────────────────────────────┼─────────────────┤\n",
       "│ dropout (<span style=\"color: #0087ff; text-decoration-color: #0087ff\">Dropout</span>)                    │ (<span style=\"color: #00d7ff; text-decoration-color: #00d7ff\">None</span>, <span style=\"color: #00af00; text-decoration-color: #00af00\">107</span>, <span style=\"color: #00af00; text-decoration-color: #00af00\">64</span>)             │               <span style=\"color: #00af00; text-decoration-color: #00af00\">0</span> │\n",
       "├──────────────────────────────────────┼─────────────────────────────┼─────────────────┤\n",
       "│ conv1d_1 (<span style=\"color: #0087ff; text-decoration-color: #0087ff\">Conv1D</span>)                    │ (<span style=\"color: #00d7ff; text-decoration-color: #00d7ff\">None</span>, <span style=\"color: #00af00; text-decoration-color: #00af00\">105</span>, <span style=\"color: #00af00; text-decoration-color: #00af00\">128</span>)            │          <span style=\"color: #00af00; text-decoration-color: #00af00\">24,704</span> │\n",
       "├──────────────────────────────────────┼─────────────────────────────┼─────────────────┤\n",
       "│ batch_normalization_1                │ (<span style=\"color: #00d7ff; text-decoration-color: #00d7ff\">None</span>, <span style=\"color: #00af00; text-decoration-color: #00af00\">105</span>, <span style=\"color: #00af00; text-decoration-color: #00af00\">128</span>)            │             <span style=\"color: #00af00; text-decoration-color: #00af00\">512</span> │\n",
       "│ (<span style=\"color: #0087ff; text-decoration-color: #0087ff\">BatchNormalization</span>)                 │                             │                 │\n",
       "├──────────────────────────────────────┼─────────────────────────────┼─────────────────┤\n",
       "│ max_pooling1d_1 (<span style=\"color: #0087ff; text-decoration-color: #0087ff\">MaxPooling1D</span>)       │ (<span style=\"color: #00d7ff; text-decoration-color: #00d7ff\">None</span>, <span style=\"color: #00af00; text-decoration-color: #00af00\">52</span>, <span style=\"color: #00af00; text-decoration-color: #00af00\">128</span>)             │               <span style=\"color: #00af00; text-decoration-color: #00af00\">0</span> │\n",
       "├──────────────────────────────────────┼─────────────────────────────┼─────────────────┤\n",
       "│ dropout_1 (<span style=\"color: #0087ff; text-decoration-color: #0087ff\">Dropout</span>)                  │ (<span style=\"color: #00d7ff; text-decoration-color: #00d7ff\">None</span>, <span style=\"color: #00af00; text-decoration-color: #00af00\">52</span>, <span style=\"color: #00af00; text-decoration-color: #00af00\">128</span>)             │               <span style=\"color: #00af00; text-decoration-color: #00af00\">0</span> │\n",
       "├──────────────────────────────────────┼─────────────────────────────┼─────────────────┤\n",
       "│ flatten (<span style=\"color: #0087ff; text-decoration-color: #0087ff\">Flatten</span>)                    │ (<span style=\"color: #00d7ff; text-decoration-color: #00d7ff\">None</span>, <span style=\"color: #00af00; text-decoration-color: #00af00\">6656</span>)                │               <span style=\"color: #00af00; text-decoration-color: #00af00\">0</span> │\n",
       "├──────────────────────────────────────┼─────────────────────────────┼─────────────────┤\n",
       "│ dense (<span style=\"color: #0087ff; text-decoration-color: #0087ff\">Dense</span>)                        │ (<span style=\"color: #00d7ff; text-decoration-color: #00d7ff\">None</span>, <span style=\"color: #00af00; text-decoration-color: #00af00\">128</span>)                 │         <span style=\"color: #00af00; text-decoration-color: #00af00\">852,096</span> │\n",
       "├──────────────────────────────────────┼─────────────────────────────┼─────────────────┤\n",
       "│ dropout_2 (<span style=\"color: #0087ff; text-decoration-color: #0087ff\">Dropout</span>)                  │ (<span style=\"color: #00d7ff; text-decoration-color: #00d7ff\">None</span>, <span style=\"color: #00af00; text-decoration-color: #00af00\">128</span>)                 │               <span style=\"color: #00af00; text-decoration-color: #00af00\">0</span> │\n",
       "├──────────────────────────────────────┼─────────────────────────────┼─────────────────┤\n",
       "│ dense_1 (<span style=\"color: #0087ff; text-decoration-color: #0087ff\">Dense</span>)                      │ (<span style=\"color: #00d7ff; text-decoration-color: #00d7ff\">None</span>, <span style=\"color: #00af00; text-decoration-color: #00af00\">10</span>)                  │           <span style=\"color: #00af00; text-decoration-color: #00af00\">1,290</span> │\n",
       "└──────────────────────────────────────┴─────────────────────────────┴─────────────────┘\n",
       "</pre>\n"
      ],
      "text/plain": [
       "┏━━━━━━━━━━━━━━━━━━━━━━━━━━━━━━━━━━━━━━┳━━━━━━━━━━━━━━━━━━━━━━━━━━━━━┳━━━━━━━━━━━━━━━━━┓\n",
       "┃\u001b[1m \u001b[0m\u001b[1mLayer (type)                        \u001b[0m\u001b[1m \u001b[0m┃\u001b[1m \u001b[0m\u001b[1mOutput Shape               \u001b[0m\u001b[1m \u001b[0m┃\u001b[1m \u001b[0m\u001b[1m        Param #\u001b[0m\u001b[1m \u001b[0m┃\n",
       "┡━━━━━━━━━━━━━━━━━━━━━━━━━━━━━━━━━━━━━━╇━━━━━━━━━━━━━━━━━━━━━━━━━━━━━╇━━━━━━━━━━━━━━━━━┩\n",
       "│ conv1d (\u001b[38;5;33mConv1D\u001b[0m)                      │ (\u001b[38;5;45mNone\u001b[0m, \u001b[38;5;34m214\u001b[0m, \u001b[38;5;34m64\u001b[0m)             │           \u001b[38;5;34m2,560\u001b[0m │\n",
       "├──────────────────────────────────────┼─────────────────────────────┼─────────────────┤\n",
       "│ batch_normalization                  │ (\u001b[38;5;45mNone\u001b[0m, \u001b[38;5;34m214\u001b[0m, \u001b[38;5;34m64\u001b[0m)             │             \u001b[38;5;34m256\u001b[0m │\n",
       "│ (\u001b[38;5;33mBatchNormalization\u001b[0m)                 │                             │                 │\n",
       "├──────────────────────────────────────┼─────────────────────────────┼─────────────────┤\n",
       "│ max_pooling1d (\u001b[38;5;33mMaxPooling1D\u001b[0m)         │ (\u001b[38;5;45mNone\u001b[0m, \u001b[38;5;34m107\u001b[0m, \u001b[38;5;34m64\u001b[0m)             │               \u001b[38;5;34m0\u001b[0m │\n",
       "├──────────────────────────────────────┼─────────────────────────────┼─────────────────┤\n",
       "│ dropout (\u001b[38;5;33mDropout\u001b[0m)                    │ (\u001b[38;5;45mNone\u001b[0m, \u001b[38;5;34m107\u001b[0m, \u001b[38;5;34m64\u001b[0m)             │               \u001b[38;5;34m0\u001b[0m │\n",
       "├──────────────────────────────────────┼─────────────────────────────┼─────────────────┤\n",
       "│ conv1d_1 (\u001b[38;5;33mConv1D\u001b[0m)                    │ (\u001b[38;5;45mNone\u001b[0m, \u001b[38;5;34m105\u001b[0m, \u001b[38;5;34m128\u001b[0m)            │          \u001b[38;5;34m24,704\u001b[0m │\n",
       "├──────────────────────────────────────┼─────────────────────────────┼─────────────────┤\n",
       "│ batch_normalization_1                │ (\u001b[38;5;45mNone\u001b[0m, \u001b[38;5;34m105\u001b[0m, \u001b[38;5;34m128\u001b[0m)            │             \u001b[38;5;34m512\u001b[0m │\n",
       "│ (\u001b[38;5;33mBatchNormalization\u001b[0m)                 │                             │                 │\n",
       "├──────────────────────────────────────┼─────────────────────────────┼─────────────────┤\n",
       "│ max_pooling1d_1 (\u001b[38;5;33mMaxPooling1D\u001b[0m)       │ (\u001b[38;5;45mNone\u001b[0m, \u001b[38;5;34m52\u001b[0m, \u001b[38;5;34m128\u001b[0m)             │               \u001b[38;5;34m0\u001b[0m │\n",
       "├──────────────────────────────────────┼─────────────────────────────┼─────────────────┤\n",
       "│ dropout_1 (\u001b[38;5;33mDropout\u001b[0m)                  │ (\u001b[38;5;45mNone\u001b[0m, \u001b[38;5;34m52\u001b[0m, \u001b[38;5;34m128\u001b[0m)             │               \u001b[38;5;34m0\u001b[0m │\n",
       "├──────────────────────────────────────┼─────────────────────────────┼─────────────────┤\n",
       "│ flatten (\u001b[38;5;33mFlatten\u001b[0m)                    │ (\u001b[38;5;45mNone\u001b[0m, \u001b[38;5;34m6656\u001b[0m)                │               \u001b[38;5;34m0\u001b[0m │\n",
       "├──────────────────────────────────────┼─────────────────────────────┼─────────────────┤\n",
       "│ dense (\u001b[38;5;33mDense\u001b[0m)                        │ (\u001b[38;5;45mNone\u001b[0m, \u001b[38;5;34m128\u001b[0m)                 │         \u001b[38;5;34m852,096\u001b[0m │\n",
       "├──────────────────────────────────────┼─────────────────────────────┼─────────────────┤\n",
       "│ dropout_2 (\u001b[38;5;33mDropout\u001b[0m)                  │ (\u001b[38;5;45mNone\u001b[0m, \u001b[38;5;34m128\u001b[0m)                 │               \u001b[38;5;34m0\u001b[0m │\n",
       "├──────────────────────────────────────┼─────────────────────────────┼─────────────────┤\n",
       "│ dense_1 (\u001b[38;5;33mDense\u001b[0m)                      │ (\u001b[38;5;45mNone\u001b[0m, \u001b[38;5;34m10\u001b[0m)                  │           \u001b[38;5;34m1,290\u001b[0m │\n",
       "└──────────────────────────────────────┴─────────────────────────────┴─────────────────┘\n"
      ]
     },
     "metadata": {},
     "output_type": "display_data"
    },
    {
     "data": {
      "text/html": [
       "<pre style=\"white-space:pre;overflow-x:auto;line-height:normal;font-family:Menlo,'DejaVu Sans Mono',consolas,'Courier New',monospace\"><span style=\"font-weight: bold\"> Total params: </span><span style=\"color: #00af00; text-decoration-color: #00af00\">881,418</span> (3.36 MB)\n",
       "</pre>\n"
      ],
      "text/plain": [
       "\u001b[1m Total params: \u001b[0m\u001b[38;5;34m881,418\u001b[0m (3.36 MB)\n"
      ]
     },
     "metadata": {},
     "output_type": "display_data"
    },
    {
     "data": {
      "text/html": [
       "<pre style=\"white-space:pre;overflow-x:auto;line-height:normal;font-family:Menlo,'DejaVu Sans Mono',consolas,'Courier New',monospace\"><span style=\"font-weight: bold\"> Trainable params: </span><span style=\"color: #00af00; text-decoration-color: #00af00\">881,034</span> (3.36 MB)\n",
       "</pre>\n"
      ],
      "text/plain": [
       "\u001b[1m Trainable params: \u001b[0m\u001b[38;5;34m881,034\u001b[0m (3.36 MB)\n"
      ]
     },
     "metadata": {},
     "output_type": "display_data"
    },
    {
     "data": {
      "text/html": [
       "<pre style=\"white-space:pre;overflow-x:auto;line-height:normal;font-family:Menlo,'DejaVu Sans Mono',consolas,'Courier New',monospace\"><span style=\"font-weight: bold\"> Non-trainable params: </span><span style=\"color: #00af00; text-decoration-color: #00af00\">384</span> (1.50 KB)\n",
       "</pre>\n"
      ],
      "text/plain": [
       "\u001b[1m Non-trainable params: \u001b[0m\u001b[38;5;34m384\u001b[0m (1.50 KB)\n"
      ]
     },
     "metadata": {},
     "output_type": "display_data"
    },
    {
     "name": "stdout",
     "output_type": "stream",
     "text": [
      "Epoch 1/200\n"
     ]
    },
    {
     "name": "stderr",
     "output_type": "stream",
     "text": [
      "WARNING: All log messages before absl::InitializeLog() is called are written to STDERR\n",
      "I0000 00:00:1748215133.442935      87 service.cc:148] XLA service 0x7dca6800f270 initialized for platform CUDA (this does not guarantee that XLA will be used). Devices:\n",
      "I0000 00:00:1748215133.443586      87 service.cc:156]   StreamExecutor device (0): Tesla P100-PCIE-16GB, Compute Capability 6.0\n",
      "I0000 00:00:1748215133.808305      87 cuda_dnn.cc:529] Loaded cuDNN version 90300\n"
     ]
    },
    {
     "name": "stdout",
     "output_type": "stream",
     "text": [
      "\u001b[1m 50/650\u001b[0m \u001b[32m━\u001b[0m\u001b[37m━━━━━━━━━━━━━━━━━━━\u001b[0m \u001b[1m1s\u001b[0m 3ms/step - accuracy: 0.2887 - loss: 2.7470"
     ]
    },
    {
     "name": "stderr",
     "output_type": "stream",
     "text": [
      "I0000 00:00:1748215137.179475      87 device_compiler.h:188] Compiled cluster using XLA!  This line is logged at most once for the lifetime of the process.\n"
     ]
    },
    {
     "name": "stdout",
     "output_type": "stream",
     "text": [
      "\u001b[1m650/650\u001b[0m \u001b[32m━━━━━━━━━━━━━━━━━━━━\u001b[0m\u001b[37m\u001b[0m \u001b[1m13s\u001b[0m 10ms/step - accuracy: 0.4581 - loss: 1.6851 - val_accuracy: 0.6093 - val_loss: 1.5598\n",
      "Epoch 2/200\n",
      "\u001b[1m650/650\u001b[0m \u001b[32m━━━━━━━━━━━━━━━━━━━━\u001b[0m\u001b[37m\u001b[0m \u001b[1m2s\u001b[0m 4ms/step - accuracy: 0.6300 - loss: 1.0377 - val_accuracy: 0.6972 - val_loss: 1.1181\n",
      "Epoch 3/200\n",
      "\u001b[1m650/650\u001b[0m \u001b[32m━━━━━━━━━━━━━━━━━━━━\u001b[0m\u001b[37m\u001b[0m \u001b[1m2s\u001b[0m 4ms/step - accuracy: 0.6925 - loss: 0.8594 - val_accuracy: 0.7247 - val_loss: 1.1863\n",
      "Epoch 4/200\n",
      "\u001b[1m650/650\u001b[0m \u001b[32m━━━━━━━━━━━━━━━━━━━━\u001b[0m\u001b[37m\u001b[0m \u001b[1m2s\u001b[0m 4ms/step - accuracy: 0.7459 - loss: 0.7189 - val_accuracy: 0.7907 - val_loss: 0.7298\n",
      "Epoch 5/200\n",
      "\u001b[1m650/650\u001b[0m \u001b[32m━━━━━━━━━━━━━━━━━━━━\u001b[0m\u001b[37m\u001b[0m \u001b[1m2s\u001b[0m 4ms/step - accuracy: 0.7737 - loss: 0.6237 - val_accuracy: 0.7691 - val_loss: 0.8972\n",
      "Epoch 6/200\n",
      "\u001b[1m650/650\u001b[0m \u001b[32m━━━━━━━━━━━━━━━━━━━━\u001b[0m\u001b[37m\u001b[0m \u001b[1m3s\u001b[0m 4ms/step - accuracy: 0.7986 - loss: 0.5569 - val_accuracy: 0.8018 - val_loss: 0.7571\n",
      "Epoch 7/200\n",
      "\u001b[1m650/650\u001b[0m \u001b[32m━━━━━━━━━━━━━━━━━━━━\u001b[0m\u001b[37m\u001b[0m \u001b[1m2s\u001b[0m 4ms/step - accuracy: 0.8194 - loss: 0.5076 - val_accuracy: 0.8165 - val_loss: 0.7596\n",
      "Epoch 8/200\n",
      "\u001b[1m650/650\u001b[0m \u001b[32m━━━━━━━━━━━━━━━━━━━━\u001b[0m\u001b[37m\u001b[0m \u001b[1m2s\u001b[0m 4ms/step - accuracy: 0.8350 - loss: 0.4572 - val_accuracy: 0.8301 - val_loss: 0.6516\n",
      "Epoch 9/200\n",
      "\u001b[1m650/650\u001b[0m \u001b[32m━━━━━━━━━━━━━━━━━━━━\u001b[0m\u001b[37m\u001b[0m \u001b[1m2s\u001b[0m 4ms/step - accuracy: 0.8519 - loss: 0.4305 - val_accuracy: 0.8421 - val_loss: 0.6142\n",
      "Epoch 10/200\n",
      "\u001b[1m650/650\u001b[0m \u001b[32m━━━━━━━━━━━━━━━━━━━━\u001b[0m\u001b[37m\u001b[0m \u001b[1m2s\u001b[0m 4ms/step - accuracy: 0.8522 - loss: 0.4155 - val_accuracy: 0.8484 - val_loss: 0.6046\n",
      "Epoch 11/200\n",
      "\u001b[1m650/650\u001b[0m \u001b[32m━━━━━━━━━━━━━━━━━━━━\u001b[0m\u001b[37m\u001b[0m \u001b[1m2s\u001b[0m 4ms/step - accuracy: 0.8659 - loss: 0.3710 - val_accuracy: 0.8598 - val_loss: 0.6294\n",
      "Epoch 12/200\n",
      "\u001b[1m650/650\u001b[0m \u001b[32m━━━━━━━━━━━━━━━━━━━━\u001b[0m\u001b[37m\u001b[0m \u001b[1m2s\u001b[0m 4ms/step - accuracy: 0.8837 - loss: 0.3319 - val_accuracy: 0.8401 - val_loss: 0.7011\n",
      "Epoch 13/200\n",
      "\u001b[1m650/650\u001b[0m \u001b[32m━━━━━━━━━━━━━━━━━━━━\u001b[0m\u001b[37m\u001b[0m \u001b[1m2s\u001b[0m 4ms/step - accuracy: 0.8883 - loss: 0.3284 - val_accuracy: 0.8746 - val_loss: 0.5205\n",
      "Epoch 14/200\n",
      "\u001b[1m650/650\u001b[0m \u001b[32m━━━━━━━━━━━━━━━━━━━━\u001b[0m\u001b[37m\u001b[0m \u001b[1m2s\u001b[0m 4ms/step - accuracy: 0.8919 - loss: 0.3240 - val_accuracy: 0.8763 - val_loss: 0.5397\n",
      "Epoch 15/200\n",
      "\u001b[1m650/650\u001b[0m \u001b[32m━━━━━━━━━━━━━━━━━━━━\u001b[0m\u001b[37m\u001b[0m \u001b[1m2s\u001b[0m 4ms/step - accuracy: 0.8998 - loss: 0.2875 - val_accuracy: 0.8692 - val_loss: 0.5226\n",
      "Epoch 16/200\n",
      "\u001b[1m650/650\u001b[0m \u001b[32m━━━━━━━━━━━━━━━━━━━━\u001b[0m\u001b[37m\u001b[0m \u001b[1m2s\u001b[0m 4ms/step - accuracy: 0.9067 - loss: 0.2738 - val_accuracy: 0.8815 - val_loss: 0.4919\n",
      "Epoch 17/200\n",
      "\u001b[1m650/650\u001b[0m \u001b[32m━━━━━━━━━━━━━━━━━━━━\u001b[0m\u001b[37m\u001b[0m \u001b[1m2s\u001b[0m 4ms/step - accuracy: 0.9072 - loss: 0.2700 - val_accuracy: 0.8803 - val_loss: 0.5700\n",
      "Epoch 18/200\n",
      "\u001b[1m650/650\u001b[0m \u001b[32m━━━━━━━━━━━━━━━━━━━━\u001b[0m\u001b[37m\u001b[0m \u001b[1m2s\u001b[0m 4ms/step - accuracy: 0.9129 - loss: 0.2459 - val_accuracy: 0.8828 - val_loss: 0.5269\n",
      "Epoch 19/200\n",
      "\u001b[1m650/650\u001b[0m \u001b[32m━━━━━━━━━━━━━━━━━━━━\u001b[0m\u001b[37m\u001b[0m \u001b[1m2s\u001b[0m 4ms/step - accuracy: 0.9191 - loss: 0.2380 - val_accuracy: 0.8942 - val_loss: 0.4324\n",
      "Epoch 20/200\n",
      "\u001b[1m650/650\u001b[0m \u001b[32m━━━━━━━━━━━━━━━━━━━━\u001b[0m\u001b[37m\u001b[0m \u001b[1m2s\u001b[0m 4ms/step - accuracy: 0.9208 - loss: 0.2297 - val_accuracy: 0.8811 - val_loss: 0.5880\n",
      "Epoch 21/200\n",
      "\u001b[1m650/650\u001b[0m \u001b[32m━━━━━━━━━━━━━━━━━━━━\u001b[0m\u001b[37m\u001b[0m \u001b[1m2s\u001b[0m 4ms/step - accuracy: 0.9227 - loss: 0.2248 - val_accuracy: 0.8977 - val_loss: 0.4406\n",
      "Epoch 22/200\n",
      "\u001b[1m650/650\u001b[0m \u001b[32m━━━━━━━━━━━━━━━━━━━━\u001b[0m\u001b[37m\u001b[0m \u001b[1m2s\u001b[0m 4ms/step - accuracy: 0.9244 - loss: 0.2250 - val_accuracy: 0.8903 - val_loss: 0.4722\n",
      "Epoch 23/200\n",
      "\u001b[1m650/650\u001b[0m \u001b[32m━━━━━━━━━━━━━━━━━━━━\u001b[0m\u001b[37m\u001b[0m \u001b[1m2s\u001b[0m 4ms/step - accuracy: 0.9264 - loss: 0.2104 - val_accuracy: 0.8998 - val_loss: 0.4364\n",
      "Epoch 24/200\n",
      "\u001b[1m650/650\u001b[0m \u001b[32m━━━━━━━━━━━━━━━━━━━━\u001b[0m\u001b[37m\u001b[0m \u001b[1m2s\u001b[0m 4ms/step - accuracy: 0.9291 - loss: 0.2171 - val_accuracy: 0.9044 - val_loss: 0.3947\n",
      "Epoch 25/200\n",
      "\u001b[1m650/650\u001b[0m \u001b[32m━━━━━━━━━━━━━━━━━━━━\u001b[0m\u001b[37m\u001b[0m \u001b[1m2s\u001b[0m 4ms/step - accuracy: 0.9318 - loss: 0.2020 - val_accuracy: 0.9092 - val_loss: 0.3977\n",
      "Epoch 26/200\n",
      "\u001b[1m650/650\u001b[0m \u001b[32m━━━━━━━━━━━━━━━━━━━━\u001b[0m\u001b[37m\u001b[0m \u001b[1m2s\u001b[0m 4ms/step - accuracy: 0.9351 - loss: 0.1963 - val_accuracy: 0.9013 - val_loss: 0.4409\n",
      "Epoch 27/200\n",
      "\u001b[1m650/650\u001b[0m \u001b[32m━━━━━━━━━━━━━━━━━━━━\u001b[0m\u001b[37m\u001b[0m \u001b[1m2s\u001b[0m 4ms/step - accuracy: 0.9383 - loss: 0.1861 - val_accuracy: 0.9025 - val_loss: 0.4357\n",
      "Epoch 28/200\n",
      "\u001b[1m650/650\u001b[0m \u001b[32m━━━━━━━━━━━━━━━━━━━━\u001b[0m\u001b[37m\u001b[0m \u001b[1m2s\u001b[0m 4ms/step - accuracy: 0.9396 - loss: 0.1856 - val_accuracy: 0.8990 - val_loss: 0.4606\n",
      "Epoch 29/200\n",
      "\u001b[1m650/650\u001b[0m \u001b[32m━━━━━━━━━━━━━━━━━━━━\u001b[0m\u001b[37m\u001b[0m \u001b[1m2s\u001b[0m 4ms/step - accuracy: 0.9405 - loss: 0.1756 - val_accuracy: 0.9134 - val_loss: 0.3790\n",
      "Epoch 30/200\n",
      "\u001b[1m650/650\u001b[0m \u001b[32m━━━━━━━━━━━━━━━━━━━━\u001b[0m\u001b[37m\u001b[0m \u001b[1m2s\u001b[0m 4ms/step - accuracy: 0.9443 - loss: 0.1723 - val_accuracy: 0.9042 - val_loss: 0.4338\n",
      "Epoch 31/200\n",
      "\u001b[1m650/650\u001b[0m \u001b[32m━━━━━━━━━━━━━━━━━━━━\u001b[0m\u001b[37m\u001b[0m \u001b[1m2s\u001b[0m 4ms/step - accuracy: 0.9455 - loss: 0.1646 - val_accuracy: 0.9052 - val_loss: 0.4402\n",
      "Epoch 32/200\n",
      "\u001b[1m650/650\u001b[0m \u001b[32m━━━━━━━━━━━━━━━━━━━━\u001b[0m\u001b[37m\u001b[0m \u001b[1m3s\u001b[0m 4ms/step - accuracy: 0.9474 - loss: 0.1576 - val_accuracy: 0.8961 - val_loss: 0.5021\n",
      "Epoch 33/200\n",
      "\u001b[1m650/650\u001b[0m \u001b[32m━━━━━━━━━━━━━━━━━━━━\u001b[0m\u001b[37m\u001b[0m \u001b[1m2s\u001b[0m 4ms/step - accuracy: 0.9465 - loss: 0.1650 - val_accuracy: 0.9132 - val_loss: 0.3780\n",
      "Epoch 34/200\n",
      "\u001b[1m650/650\u001b[0m \u001b[32m━━━━━━━━━━━━━━━━━━━━\u001b[0m\u001b[37m\u001b[0m \u001b[1m2s\u001b[0m 4ms/step - accuracy: 0.9485 - loss: 0.1560 - val_accuracy: 0.9119 - val_loss: 0.3780\n",
      "Epoch 35/200\n",
      "\u001b[1m650/650\u001b[0m \u001b[32m━━━━━━━━━━━━━━━━━━━━\u001b[0m\u001b[37m\u001b[0m \u001b[1m2s\u001b[0m 4ms/step - accuracy: 0.9449 - loss: 0.1668 - val_accuracy: 0.9192 - val_loss: 0.3763\n",
      "Epoch 36/200\n",
      "\u001b[1m650/650\u001b[0m \u001b[32m━━━━━━━━━━━━━━━━━━━━\u001b[0m\u001b[37m\u001b[0m \u001b[1m2s\u001b[0m 4ms/step - accuracy: 0.9508 - loss: 0.1432 - val_accuracy: 0.9121 - val_loss: 0.4098\n",
      "Epoch 37/200\n",
      "\u001b[1m650/650\u001b[0m \u001b[32m━━━━━━━━━━━━━━━━━━━━\u001b[0m\u001b[37m\u001b[0m \u001b[1m2s\u001b[0m 4ms/step - accuracy: 0.9526 - loss: 0.1418 - val_accuracy: 0.9050 - val_loss: 0.4306\n",
      "Epoch 38/200\n",
      "\u001b[1m650/650\u001b[0m \u001b[32m━━━━━━━━━━━━━━━━━━━━\u001b[0m\u001b[37m\u001b[0m \u001b[1m2s\u001b[0m 4ms/step - accuracy: 0.9459 - loss: 0.1595 - val_accuracy: 0.9123 - val_loss: 0.3750\n",
      "Epoch 39/200\n",
      "\u001b[1m650/650\u001b[0m \u001b[32m━━━━━━━━━━━━━━━━━━━━\u001b[0m\u001b[37m\u001b[0m \u001b[1m2s\u001b[0m 4ms/step - accuracy: 0.9497 - loss: 0.1516 - val_accuracy: 0.9100 - val_loss: 0.4006\n",
      "Epoch 40/200\n",
      "\u001b[1m650/650\u001b[0m \u001b[32m━━━━━━━━━━━━━━━━━━━━\u001b[0m\u001b[37m\u001b[0m \u001b[1m2s\u001b[0m 4ms/step - accuracy: 0.9493 - loss: 0.1596 - val_accuracy: 0.9177 - val_loss: 0.3607\n",
      "Epoch 41/200\n",
      "\u001b[1m650/650\u001b[0m \u001b[32m━━━━━━━━━━━━━━━━━━━━\u001b[0m\u001b[37m\u001b[0m \u001b[1m2s\u001b[0m 4ms/step - accuracy: 0.9531 - loss: 0.1417 - val_accuracy: 0.9167 - val_loss: 0.3905\n",
      "Epoch 42/200\n",
      "\u001b[1m650/650\u001b[0m \u001b[32m━━━━━━━━━━━━━━━━━━━━\u001b[0m\u001b[37m\u001b[0m \u001b[1m2s\u001b[0m 4ms/step - accuracy: 0.9506 - loss: 0.1506 - val_accuracy: 0.9119 - val_loss: 0.4034\n",
      "Epoch 43/200\n",
      "\u001b[1m650/650\u001b[0m \u001b[32m━━━━━━━━━━━━━━━━━━━━\u001b[0m\u001b[37m\u001b[0m \u001b[1m2s\u001b[0m 4ms/step - accuracy: 0.9551 - loss: 0.1373 - val_accuracy: 0.9169 - val_loss: 0.3855\n",
      "Epoch 44/200\n",
      "\u001b[1m650/650\u001b[0m \u001b[32m━━━━━━━━━━━━━━━━━━━━\u001b[0m\u001b[37m\u001b[0m \u001b[1m2s\u001b[0m 4ms/step - accuracy: 0.9568 - loss: 0.1365 - val_accuracy: 0.9188 - val_loss: 0.3575\n",
      "Epoch 45/200\n",
      "\u001b[1m650/650\u001b[0m \u001b[32m━━━━━━━━━━━━━━━━━━━━\u001b[0m\u001b[37m\u001b[0m \u001b[1m3s\u001b[0m 4ms/step - accuracy: 0.9570 - loss: 0.1237 - val_accuracy: 0.9144 - val_loss: 0.3912\n",
      "Epoch 46/200\n",
      "\u001b[1m650/650\u001b[0m \u001b[32m━━━━━━━━━━━━━━━━━━━━\u001b[0m\u001b[37m\u001b[0m \u001b[1m2s\u001b[0m 4ms/step - accuracy: 0.9546 - loss: 0.1411 - val_accuracy: 0.9115 - val_loss: 0.3920\n",
      "Epoch 47/200\n",
      "\u001b[1m650/650\u001b[0m \u001b[32m━━━━━━━━━━━━━━━━━━━━\u001b[0m\u001b[37m\u001b[0m \u001b[1m2s\u001b[0m 4ms/step - accuracy: 0.9576 - loss: 0.1254 - val_accuracy: 0.9171 - val_loss: 0.3603\n",
      "Epoch 48/200\n",
      "\u001b[1m650/650\u001b[0m \u001b[32m━━━━━━━━━━━━━━━━━━━━\u001b[0m\u001b[37m\u001b[0m \u001b[1m2s\u001b[0m 4ms/step - accuracy: 0.9582 - loss: 0.1284 - val_accuracy: 0.9223 - val_loss: 0.3818\n",
      "Epoch 49/200\n",
      "\u001b[1m650/650\u001b[0m \u001b[32m━━━━━━━━━━━━━━━━━━━━\u001b[0m\u001b[37m\u001b[0m \u001b[1m2s\u001b[0m 4ms/step - accuracy: 0.9554 - loss: 0.1405 - val_accuracy: 0.9154 - val_loss: 0.4162\n",
      "Epoch 50/200\n",
      "\u001b[1m650/650\u001b[0m \u001b[32m━━━━━━━━━━━━━━━━━━━━\u001b[0m\u001b[37m\u001b[0m \u001b[1m2s\u001b[0m 4ms/step - accuracy: 0.9602 - loss: 0.1299 - val_accuracy: 0.9138 - val_loss: 0.3985\n",
      "Epoch 51/200\n",
      "\u001b[1m650/650\u001b[0m \u001b[32m━━━━━━━━━━━━━━━━━━━━\u001b[0m\u001b[37m\u001b[0m \u001b[1m2s\u001b[0m 4ms/step - accuracy: 0.9609 - loss: 0.1181 - val_accuracy: 0.9229 - val_loss: 0.3329\n",
      "Epoch 52/200\n",
      "\u001b[1m650/650\u001b[0m \u001b[32m━━━━━━━━━━━━━━━━━━━━\u001b[0m\u001b[37m\u001b[0m \u001b[1m2s\u001b[0m 4ms/step - accuracy: 0.9609 - loss: 0.1202 - val_accuracy: 0.9244 - val_loss: 0.3217\n",
      "Epoch 53/200\n",
      "\u001b[1m650/650\u001b[0m \u001b[32m━━━━━━━━━━━━━━━━━━━━\u001b[0m\u001b[37m\u001b[0m \u001b[1m2s\u001b[0m 4ms/step - accuracy: 0.9592 - loss: 0.1214 - val_accuracy: 0.9219 - val_loss: 0.3295\n",
      "Epoch 54/200\n",
      "\u001b[1m650/650\u001b[0m \u001b[32m━━━━━━━━━━━━━━━━━━━━\u001b[0m\u001b[37m\u001b[0m \u001b[1m2s\u001b[0m 4ms/step - accuracy: 0.9627 - loss: 0.1141 - val_accuracy: 0.9219 - val_loss: 0.3038\n",
      "Epoch 55/200\n",
      "\u001b[1m650/650\u001b[0m \u001b[32m━━━━━━━━━━━━━━━━━━━━\u001b[0m\u001b[37m\u001b[0m \u001b[1m2s\u001b[0m 4ms/step - accuracy: 0.9585 - loss: 0.1246 - val_accuracy: 0.9213 - val_loss: 0.3412\n",
      "Epoch 56/200\n",
      "\u001b[1m650/650\u001b[0m \u001b[32m━━━━━━━━━━━━━━━━━━━━\u001b[0m\u001b[37m\u001b[0m \u001b[1m2s\u001b[0m 4ms/step - accuracy: 0.9679 - loss: 0.1064 - val_accuracy: 0.9223 - val_loss: 0.3281\n",
      "Epoch 57/200\n",
      "\u001b[1m650/650\u001b[0m \u001b[32m━━━━━━━━━━━━━━━━━━━━\u001b[0m\u001b[37m\u001b[0m \u001b[1m2s\u001b[0m 4ms/step - accuracy: 0.9620 - loss: 0.1170 - val_accuracy: 0.9198 - val_loss: 0.3426\n",
      "Epoch 58/200\n",
      "\u001b[1m650/650\u001b[0m \u001b[32m━━━━━━━━━━━━━━━━━━━━\u001b[0m\u001b[37m\u001b[0m \u001b[1m3s\u001b[0m 4ms/step - accuracy: 0.9662 - loss: 0.1038 - val_accuracy: 0.9248 - val_loss: 0.3261\n",
      "Epoch 59/200\n",
      "\u001b[1m650/650\u001b[0m \u001b[32m━━━━━━━━━━━━━━━━━━━━\u001b[0m\u001b[37m\u001b[0m \u001b[1m2s\u001b[0m 4ms/step - accuracy: 0.9648 - loss: 0.1081 - val_accuracy: 0.9298 - val_loss: 0.3191\n",
      "Epoch 60/200\n",
      "\u001b[1m650/650\u001b[0m \u001b[32m━━━━━━━━━━━━━━━━━━━━\u001b[0m\u001b[37m\u001b[0m \u001b[1m2s\u001b[0m 4ms/step - accuracy: 0.9620 - loss: 0.1165 - val_accuracy: 0.9204 - val_loss: 0.4062\n",
      "Epoch 61/200\n",
      "\u001b[1m650/650\u001b[0m \u001b[32m━━━━━━━━━━━━━━━━━━━━\u001b[0m\u001b[37m\u001b[0m \u001b[1m2s\u001b[0m 4ms/step - accuracy: 0.9674 - loss: 0.0991 - val_accuracy: 0.9261 - val_loss: 0.3463\n",
      "Epoch 62/200\n",
      "\u001b[1m650/650\u001b[0m \u001b[32m━━━━━━━━━━━━━━━━━━━━\u001b[0m\u001b[37m\u001b[0m \u001b[1m2s\u001b[0m 4ms/step - accuracy: 0.9638 - loss: 0.1023 - val_accuracy: 0.9225 - val_loss: 0.3698\n",
      "Epoch 63/200\n",
      "\u001b[1m650/650\u001b[0m \u001b[32m━━━━━━━━━━━━━━━━━━━━\u001b[0m\u001b[37m\u001b[0m \u001b[1m2s\u001b[0m 4ms/step - accuracy: 0.9680 - loss: 0.1021 - val_accuracy: 0.9250 - val_loss: 0.3658\n",
      "Epoch 64/200\n",
      "\u001b[1m650/650\u001b[0m \u001b[32m━━━━━━━━━━━━━━━━━━━━\u001b[0m\u001b[37m\u001b[0m \u001b[1m2s\u001b[0m 4ms/step - accuracy: 0.9658 - loss: 0.1064 - val_accuracy: 0.9163 - val_loss: 0.3474\n",
      "Epoch 65/200\n",
      "\u001b[1m650/650\u001b[0m \u001b[32m━━━━━━━━━━━━━━━━━━━━\u001b[0m\u001b[37m\u001b[0m \u001b[1m2s\u001b[0m 4ms/step - accuracy: 0.9694 - loss: 0.0952 - val_accuracy: 0.9155 - val_loss: 0.4332\n",
      "Epoch 66/200\n",
      "\u001b[1m650/650\u001b[0m \u001b[32m━━━━━━━━━━━━━━━━━━━━\u001b[0m\u001b[37m\u001b[0m \u001b[1m2s\u001b[0m 4ms/step - accuracy: 0.9654 - loss: 0.1107 - val_accuracy: 0.9275 - val_loss: 0.3324\n",
      "Epoch 67/200\n",
      "\u001b[1m650/650\u001b[0m \u001b[32m━━━━━━━━━━━━━━━━━━━━\u001b[0m\u001b[37m\u001b[0m \u001b[1m2s\u001b[0m 4ms/step - accuracy: 0.9675 - loss: 0.1017 - val_accuracy: 0.9155 - val_loss: 0.3993\n",
      "Epoch 68/200\n",
      "\u001b[1m650/650\u001b[0m \u001b[32m━━━━━━━━━━━━━━━━━━━━\u001b[0m\u001b[37m\u001b[0m \u001b[1m2s\u001b[0m 4ms/step - accuracy: 0.9660 - loss: 0.1029 - val_accuracy: 0.9259 - val_loss: 0.3187\n",
      "Epoch 69/200\n",
      "\u001b[1m650/650\u001b[0m \u001b[32m━━━━━━━━━━━━━━━━━━━━\u001b[0m\u001b[37m\u001b[0m \u001b[1m2s\u001b[0m 4ms/step - accuracy: 0.9681 - loss: 0.0940 - val_accuracy: 0.9263 - val_loss: 0.3487\n",
      "Epoch 70/200\n",
      "\u001b[1m650/650\u001b[0m \u001b[32m━━━━━━━━━━━━━━━━━━━━\u001b[0m\u001b[37m\u001b[0m \u001b[1m2s\u001b[0m 4ms/step - accuracy: 0.9682 - loss: 0.1050 - val_accuracy: 0.9286 - val_loss: 0.3010\n",
      "Epoch 71/200\n",
      "\u001b[1m650/650\u001b[0m \u001b[32m━━━━━━━━━━━━━━━━━━━━\u001b[0m\u001b[37m\u001b[0m \u001b[1m3s\u001b[0m 4ms/step - accuracy: 0.9693 - loss: 0.0966 - val_accuracy: 0.9259 - val_loss: 0.3510\n",
      "Epoch 72/200\n",
      "\u001b[1m650/650\u001b[0m \u001b[32m━━━━━━━━━━━━━━━━━━━━\u001b[0m\u001b[37m\u001b[0m \u001b[1m2s\u001b[0m 4ms/step - accuracy: 0.9696 - loss: 0.0885 - val_accuracy: 0.9232 - val_loss: 0.3160\n",
      "Epoch 73/200\n",
      "\u001b[1m650/650\u001b[0m \u001b[32m━━━━━━━━━━━━━━━━━━━━\u001b[0m\u001b[37m\u001b[0m \u001b[1m2s\u001b[0m 4ms/step - accuracy: 0.9701 - loss: 0.0926 - val_accuracy: 0.9390 - val_loss: 0.2683\n",
      "Epoch 74/200\n",
      "\u001b[1m650/650\u001b[0m \u001b[32m━━━━━━━━━━━━━━━━━━━━\u001b[0m\u001b[37m\u001b[0m \u001b[1m2s\u001b[0m 4ms/step - accuracy: 0.9680 - loss: 0.1050 - val_accuracy: 0.9338 - val_loss: 0.2863\n",
      "Epoch 75/200\n",
      "\u001b[1m650/650\u001b[0m \u001b[32m━━━━━━━━━━━━━━━━━━━━\u001b[0m\u001b[37m\u001b[0m \u001b[1m2s\u001b[0m 4ms/step - accuracy: 0.9727 - loss: 0.0847 - val_accuracy: 0.9342 - val_loss: 0.2795\n",
      "Epoch 76/200\n",
      "\u001b[1m650/650\u001b[0m \u001b[32m━━━━━━━━━━━━━━━━━━━━\u001b[0m\u001b[37m\u001b[0m \u001b[1m2s\u001b[0m 4ms/step - accuracy: 0.9713 - loss: 0.0883 - val_accuracy: 0.9196 - val_loss: 0.3868\n",
      "Epoch 77/200\n",
      "\u001b[1m650/650\u001b[0m \u001b[32m━━━━━━━━━━━━━━━━━━━━\u001b[0m\u001b[37m\u001b[0m \u001b[1m2s\u001b[0m 4ms/step - accuracy: 0.9712 - loss: 0.0856 - val_accuracy: 0.9294 - val_loss: 0.3136\n",
      "Epoch 78/200\n",
      "\u001b[1m650/650\u001b[0m \u001b[32m━━━━━━━━━━━━━━━━━━━━\u001b[0m\u001b[37m\u001b[0m \u001b[1m2s\u001b[0m 4ms/step - accuracy: 0.9713 - loss: 0.0895 - val_accuracy: 0.9234 - val_loss: 0.3466\n",
      "Epoch 79/200\n",
      "\u001b[1m650/650\u001b[0m \u001b[32m━━━━━━━━━━━━━━━━━━━━\u001b[0m\u001b[37m\u001b[0m \u001b[1m2s\u001b[0m 4ms/step - accuracy: 0.9664 - loss: 0.1000 - val_accuracy: 0.9252 - val_loss: 0.3542\n",
      "Epoch 80/200\n",
      "\u001b[1m650/650\u001b[0m \u001b[32m━━━━━━━━━━━━━━━━━━━━\u001b[0m\u001b[37m\u001b[0m \u001b[1m2s\u001b[0m 4ms/step - accuracy: 0.9704 - loss: 0.0886 - val_accuracy: 0.9240 - val_loss: 0.3768\n",
      "Epoch 81/200\n",
      "\u001b[1m650/650\u001b[0m \u001b[32m━━━━━━━━━━━━━━━━━━━━\u001b[0m\u001b[37m\u001b[0m \u001b[1m2s\u001b[0m 4ms/step - accuracy: 0.9738 - loss: 0.0870 - val_accuracy: 0.9261 - val_loss: 0.3524\n",
      "Epoch 82/200\n",
      "\u001b[1m650/650\u001b[0m \u001b[32m━━━━━━━━━━━━━━━━━━━━\u001b[0m\u001b[37m\u001b[0m \u001b[1m2s\u001b[0m 4ms/step - accuracy: 0.9715 - loss: 0.0885 - val_accuracy: 0.9190 - val_loss: 0.3725\n",
      "Epoch 83/200\n",
      "\u001b[1m650/650\u001b[0m \u001b[32m━━━━━━━━━━━━━━━━━━━━\u001b[0m\u001b[37m\u001b[0m \u001b[1m2s\u001b[0m 4ms/step - accuracy: 0.9717 - loss: 0.0852 - val_accuracy: 0.9304 - val_loss: 0.3303\n",
      "Epoch 84/200\n",
      "\u001b[1m650/650\u001b[0m \u001b[32m━━━━━━━━━━━━━━━━━━━━\u001b[0m\u001b[37m\u001b[0m \u001b[1m3s\u001b[0m 4ms/step - accuracy: 0.9729 - loss: 0.0888 - val_accuracy: 0.9232 - val_loss: 0.3555\n",
      "Epoch 85/200\n",
      "\u001b[1m650/650\u001b[0m \u001b[32m━━━━━━━━━━━━━━━━━━━━\u001b[0m\u001b[37m\u001b[0m \u001b[1m2s\u001b[0m 4ms/step - accuracy: 0.9745 - loss: 0.0857 - val_accuracy: 0.9342 - val_loss: 0.2867\n",
      "Epoch 86/200\n",
      "\u001b[1m650/650\u001b[0m \u001b[32m━━━━━━━━━━━━━━━━━━━━\u001b[0m\u001b[37m\u001b[0m \u001b[1m2s\u001b[0m 4ms/step - accuracy: 0.9748 - loss: 0.0816 - val_accuracy: 0.9329 - val_loss: 0.2771\n",
      "Epoch 87/200\n",
      "\u001b[1m650/650\u001b[0m \u001b[32m━━━━━━━━━━━━━━━━━━━━\u001b[0m\u001b[37m\u001b[0m \u001b[1m2s\u001b[0m 4ms/step - accuracy: 0.9763 - loss: 0.0770 - val_accuracy: 0.9271 - val_loss: 0.3356\n",
      "Epoch 88/200\n",
      "\u001b[1m650/650\u001b[0m \u001b[32m━━━━━━━━━━━━━━━━━━━━\u001b[0m\u001b[37m\u001b[0m \u001b[1m2s\u001b[0m 4ms/step - accuracy: 0.9719 - loss: 0.0859 - val_accuracy: 0.9273 - val_loss: 0.3462\n",
      "Epoch 89/200\n",
      "\u001b[1m650/650\u001b[0m \u001b[32m━━━━━━━━━━━━━━━━━━━━\u001b[0m\u001b[37m\u001b[0m \u001b[1m2s\u001b[0m 4ms/step - accuracy: 0.9735 - loss: 0.0829 - val_accuracy: 0.9302 - val_loss: 0.3152\n",
      "Epoch 90/200\n",
      "\u001b[1m650/650\u001b[0m \u001b[32m━━━━━━━━━━━━━━━━━━━━\u001b[0m\u001b[37m\u001b[0m \u001b[1m2s\u001b[0m 4ms/step - accuracy: 0.9735 - loss: 0.0866 - val_accuracy: 0.9254 - val_loss: 0.3487\n",
      "Epoch 91/200\n",
      "\u001b[1m650/650\u001b[0m \u001b[32m━━━━━━━━━━━━━━━━━━━━\u001b[0m\u001b[37m\u001b[0m \u001b[1m2s\u001b[0m 4ms/step - accuracy: 0.9749 - loss: 0.0785 - val_accuracy: 0.9227 - val_loss: 0.3492\n",
      "Epoch 92/200\n",
      "\u001b[1m650/650\u001b[0m \u001b[32m━━━━━━━━━━━━━━━━━━━━\u001b[0m\u001b[37m\u001b[0m \u001b[1m2s\u001b[0m 4ms/step - accuracy: 0.9725 - loss: 0.0906 - val_accuracy: 0.9229 - val_loss: 0.3663\n",
      "Epoch 93/200\n",
      "\u001b[1m650/650\u001b[0m \u001b[32m━━━━━━━━━━━━━━━━━━━━\u001b[0m\u001b[37m\u001b[0m \u001b[1m2s\u001b[0m 4ms/step - accuracy: 0.9730 - loss: 0.0798 - val_accuracy: 0.9255 - val_loss: 0.3495\n",
      "Epoch 94/200\n",
      "\u001b[1m650/650\u001b[0m \u001b[32m━━━━━━━━━━━━━━━━━━━━\u001b[0m\u001b[37m\u001b[0m \u001b[1m2s\u001b[0m 4ms/step - accuracy: 0.9758 - loss: 0.0764 - val_accuracy: 0.9294 - val_loss: 0.3194\n",
      "Epoch 95/200\n",
      "\u001b[1m650/650\u001b[0m \u001b[32m━━━━━━━━━━━━━━━━━━━━\u001b[0m\u001b[37m\u001b[0m \u001b[1m2s\u001b[0m 4ms/step - accuracy: 0.9734 - loss: 0.0859 - val_accuracy: 0.9286 - val_loss: 0.3116\n",
      "Epoch 96/200\n",
      "\u001b[1m650/650\u001b[0m \u001b[32m━━━━━━━━━━━━━━━━━━━━\u001b[0m\u001b[37m\u001b[0m \u001b[1m2s\u001b[0m 4ms/step - accuracy: 0.9759 - loss: 0.0708 - val_accuracy: 0.9300 - val_loss: 0.3226\n",
      "Epoch 97/200\n",
      "\u001b[1m650/650\u001b[0m \u001b[32m━━━━━━━━━━━━━━━━━━━━\u001b[0m\u001b[37m\u001b[0m \u001b[1m3s\u001b[0m 4ms/step - accuracy: 0.9730 - loss: 0.0880 - val_accuracy: 0.9215 - val_loss: 0.3992\n",
      "Epoch 98/200\n",
      "\u001b[1m650/650\u001b[0m \u001b[32m━━━━━━━━━━━━━━━━━━━━\u001b[0m\u001b[37m\u001b[0m \u001b[1m2s\u001b[0m 4ms/step - accuracy: 0.9752 - loss: 0.0801 - val_accuracy: 0.9357 - val_loss: 0.2621\n",
      "Epoch 99/200\n",
      "\u001b[1m650/650\u001b[0m \u001b[32m━━━━━━━━━━━━━━━━━━━━\u001b[0m\u001b[37m\u001b[0m \u001b[1m2s\u001b[0m 4ms/step - accuracy: 0.9741 - loss: 0.0842 - val_accuracy: 0.9344 - val_loss: 0.2990\n",
      "Epoch 100/200\n",
      "\u001b[1m650/650\u001b[0m \u001b[32m━━━━━━━━━━━━━━━━━━━━\u001b[0m\u001b[37m\u001b[0m \u001b[1m2s\u001b[0m 4ms/step - accuracy: 0.9755 - loss: 0.0781 - val_accuracy: 0.9382 - val_loss: 0.2527\n",
      "Epoch 101/200\n",
      "\u001b[1m650/650\u001b[0m \u001b[32m━━━━━━━━━━━━━━━━━━━━\u001b[0m\u001b[37m\u001b[0m \u001b[1m2s\u001b[0m 4ms/step - accuracy: 0.9773 - loss: 0.0654 - val_accuracy: 0.9382 - val_loss: 0.2547\n",
      "Epoch 102/200\n",
      "\u001b[1m650/650\u001b[0m \u001b[32m━━━━━━━━━━━━━━━━━━━━\u001b[0m\u001b[37m\u001b[0m \u001b[1m2s\u001b[0m 4ms/step - accuracy: 0.9775 - loss: 0.0670 - val_accuracy: 0.9356 - val_loss: 0.2829\n",
      "Epoch 103/200\n",
      "\u001b[1m650/650\u001b[0m \u001b[32m━━━━━━━━━━━━━━━━━━━━\u001b[0m\u001b[37m\u001b[0m \u001b[1m2s\u001b[0m 4ms/step - accuracy: 0.9742 - loss: 0.0811 - val_accuracy: 0.9311 - val_loss: 0.3034\n",
      "Epoch 104/200\n",
      "\u001b[1m650/650\u001b[0m \u001b[32m━━━━━━━━━━━━━━━━━━━━\u001b[0m\u001b[37m\u001b[0m \u001b[1m2s\u001b[0m 4ms/step - accuracy: 0.9720 - loss: 0.0858 - val_accuracy: 0.9304 - val_loss: 0.2868\n",
      "Epoch 105/200\n",
      "\u001b[1m650/650\u001b[0m \u001b[32m━━━━━━━━━━━━━━━━━━━━\u001b[0m\u001b[37m\u001b[0m \u001b[1m2s\u001b[0m 4ms/step - accuracy: 0.9771 - loss: 0.0723 - val_accuracy: 0.9369 - val_loss: 0.3030\n",
      "Epoch 106/200\n",
      "\u001b[1m650/650\u001b[0m \u001b[32m━━━━━━━━━━━━━━━━━━━━\u001b[0m\u001b[37m\u001b[0m \u001b[1m2s\u001b[0m 4ms/step - accuracy: 0.9767 - loss: 0.0746 - val_accuracy: 0.9267 - val_loss: 0.3781\n",
      "Epoch 107/200\n",
      "\u001b[1m650/650\u001b[0m \u001b[32m━━━━━━━━━━━━━━━━━━━━\u001b[0m\u001b[37m\u001b[0m \u001b[1m2s\u001b[0m 4ms/step - accuracy: 0.9731 - loss: 0.0880 - val_accuracy: 0.9338 - val_loss: 0.3023\n",
      "Epoch 108/200\n",
      "\u001b[1m650/650\u001b[0m \u001b[32m━━━━━━━━━━━━━━━━━━━━\u001b[0m\u001b[37m\u001b[0m \u001b[1m2s\u001b[0m 4ms/step - accuracy: 0.9770 - loss: 0.0678 - val_accuracy: 0.9350 - val_loss: 0.2945\n",
      "Epoch 109/200\n",
      "\u001b[1m650/650\u001b[0m \u001b[32m━━━━━━━━━━━━━━━━━━━━\u001b[0m\u001b[37m\u001b[0m \u001b[1m2s\u001b[0m 4ms/step - accuracy: 0.9745 - loss: 0.0731 - val_accuracy: 0.9313 - val_loss: 0.3111\n",
      "Epoch 110/200\n",
      "\u001b[1m650/650\u001b[0m \u001b[32m━━━━━━━━━━━━━━━━━━━━\u001b[0m\u001b[37m\u001b[0m \u001b[1m3s\u001b[0m 4ms/step - accuracy: 0.9783 - loss: 0.0712 - val_accuracy: 0.9377 - val_loss: 0.2560\n",
      "Epoch 111/200\n",
      "\u001b[1m650/650\u001b[0m \u001b[32m━━━━━━━━━━━━━━━━━━━━\u001b[0m\u001b[37m\u001b[0m \u001b[1m2s\u001b[0m 4ms/step - accuracy: 0.9787 - loss: 0.0683 - val_accuracy: 0.9317 - val_loss: 0.2952\n",
      "Epoch 112/200\n",
      "\u001b[1m650/650\u001b[0m \u001b[32m━━━━━━━━━━━━━━━━━━━━\u001b[0m\u001b[37m\u001b[0m \u001b[1m2s\u001b[0m 4ms/step - accuracy: 0.9762 - loss: 0.0740 - val_accuracy: 0.9348 - val_loss: 0.3067\n",
      "Epoch 113/200\n",
      "\u001b[1m650/650\u001b[0m \u001b[32m━━━━━━━━━━━━━━━━━━━━\u001b[0m\u001b[37m\u001b[0m \u001b[1m2s\u001b[0m 4ms/step - accuracy: 0.9766 - loss: 0.0751 - val_accuracy: 0.9319 - val_loss: 0.3103\n",
      "Epoch 114/200\n",
      "\u001b[1m650/650\u001b[0m \u001b[32m━━━━━━━━━━━━━━━━━━━━\u001b[0m\u001b[37m\u001b[0m \u001b[1m2s\u001b[0m 4ms/step - accuracy: 0.9764 - loss: 0.0736 - val_accuracy: 0.9340 - val_loss: 0.3009\n",
      "Epoch 115/200\n",
      "\u001b[1m650/650\u001b[0m \u001b[32m━━━━━━━━━━━━━━━━━━━━\u001b[0m\u001b[37m\u001b[0m \u001b[1m2s\u001b[0m 4ms/step - accuracy: 0.9788 - loss: 0.0710 - val_accuracy: 0.9302 - val_loss: 0.3214\n",
      "Epoch 116/200\n",
      "\u001b[1m650/650\u001b[0m \u001b[32m━━━━━━━━━━━━━━━━━━━━\u001b[0m\u001b[37m\u001b[0m \u001b[1m2s\u001b[0m 4ms/step - accuracy: 0.9769 - loss: 0.0766 - val_accuracy: 0.9363 - val_loss: 0.3205\n",
      "Epoch 117/200\n",
      "\u001b[1m650/650\u001b[0m \u001b[32m━━━━━━━━━━━━━━━━━━━━\u001b[0m\u001b[37m\u001b[0m \u001b[1m2s\u001b[0m 4ms/step - accuracy: 0.9787 - loss: 0.0687 - val_accuracy: 0.9413 - val_loss: 0.2488\n",
      "Epoch 118/200\n",
      "\u001b[1m650/650\u001b[0m \u001b[32m━━━━━━━━━━━━━━━━━━━━\u001b[0m\u001b[37m\u001b[0m \u001b[1m2s\u001b[0m 4ms/step - accuracy: 0.9761 - loss: 0.0755 - val_accuracy: 0.9327 - val_loss: 0.2503\n",
      "Epoch 119/200\n",
      "\u001b[1m650/650\u001b[0m \u001b[32m━━━━━━━━━━━━━━━━━━━━\u001b[0m\u001b[37m\u001b[0m \u001b[1m2s\u001b[0m 4ms/step - accuracy: 0.9758 - loss: 0.0793 - val_accuracy: 0.9244 - val_loss: 0.3581\n",
      "Epoch 120/200\n",
      "\u001b[1m650/650\u001b[0m \u001b[32m━━━━━━━━━━━━━━━━━━━━\u001b[0m\u001b[37m\u001b[0m \u001b[1m2s\u001b[0m 4ms/step - accuracy: 0.9795 - loss: 0.0627 - val_accuracy: 0.9359 - val_loss: 0.2886\n",
      "Epoch 121/200\n",
      "\u001b[1m650/650\u001b[0m \u001b[32m━━━━━━━━━━━━━━━━━━━━\u001b[0m\u001b[37m\u001b[0m \u001b[1m2s\u001b[0m 4ms/step - accuracy: 0.9780 - loss: 0.0735 - val_accuracy: 0.9290 - val_loss: 0.3251\n",
      "Epoch 122/200\n",
      "\u001b[1m650/650\u001b[0m \u001b[32m━━━━━━━━━━━━━━━━━━━━\u001b[0m\u001b[37m\u001b[0m \u001b[1m2s\u001b[0m 4ms/step - accuracy: 0.9798 - loss: 0.0672 - val_accuracy: 0.9350 - val_loss: 0.2908\n",
      "Epoch 123/200\n",
      "\u001b[1m650/650\u001b[0m \u001b[32m━━━━━━━━━━━━━━━━━━━━\u001b[0m\u001b[37m\u001b[0m \u001b[1m3s\u001b[0m 4ms/step - accuracy: 0.9771 - loss: 0.0662 - val_accuracy: 0.9317 - val_loss: 0.2865\n",
      "Epoch 124/200\n",
      "\u001b[1m650/650\u001b[0m \u001b[32m━━━━━━━━━━━━━━━━━━━━\u001b[0m\u001b[37m\u001b[0m \u001b[1m2s\u001b[0m 4ms/step - accuracy: 0.9788 - loss: 0.0717 - val_accuracy: 0.9269 - val_loss: 0.3078\n",
      "Epoch 125/200\n",
      "\u001b[1m650/650\u001b[0m \u001b[32m━━━━━━━━━━━━━━━━━━━━\u001b[0m\u001b[37m\u001b[0m \u001b[1m2s\u001b[0m 4ms/step - accuracy: 0.9768 - loss: 0.0728 - val_accuracy: 0.9298 - val_loss: 0.3101\n",
      "Epoch 126/200\n",
      "\u001b[1m650/650\u001b[0m \u001b[32m━━━━━━━━━━━━━━━━━━━━\u001b[0m\u001b[37m\u001b[0m \u001b[1m2s\u001b[0m 4ms/step - accuracy: 0.9789 - loss: 0.0684 - val_accuracy: 0.9325 - val_loss: 0.3044\n",
      "Epoch 127/200\n",
      "\u001b[1m650/650\u001b[0m \u001b[32m━━━━━━━━━━━━━━━━━━━━\u001b[0m\u001b[37m\u001b[0m \u001b[1m2s\u001b[0m 4ms/step - accuracy: 0.9789 - loss: 0.0653 - val_accuracy: 0.9348 - val_loss: 0.3027\n",
      "Epoch 128/200\n",
      "\u001b[1m650/650\u001b[0m \u001b[32m━━━━━━━━━━━━━━━━━━━━\u001b[0m\u001b[37m\u001b[0m \u001b[1m2s\u001b[0m 4ms/step - accuracy: 0.9773 - loss: 0.0734 - val_accuracy: 0.9400 - val_loss: 0.2683\n",
      "Epoch 129/200\n",
      "\u001b[1m650/650\u001b[0m \u001b[32m━━━━━━━━━━━━━━━━━━━━\u001b[0m\u001b[37m\u001b[0m \u001b[1m2s\u001b[0m 4ms/step - accuracy: 0.9788 - loss: 0.0711 - val_accuracy: 0.9309 - val_loss: 0.2834\n",
      "Epoch 130/200\n",
      "\u001b[1m650/650\u001b[0m \u001b[32m━━━━━━━━━━━━━━━━━━━━\u001b[0m\u001b[37m\u001b[0m \u001b[1m2s\u001b[0m 4ms/step - accuracy: 0.9810 - loss: 0.0577 - val_accuracy: 0.9317 - val_loss: 0.2624\n",
      "Epoch 131/200\n",
      "\u001b[1m650/650\u001b[0m \u001b[32m━━━━━━━━━━━━━━━━━━━━\u001b[0m\u001b[37m\u001b[0m \u001b[1m2s\u001b[0m 4ms/step - accuracy: 0.9803 - loss: 0.0592 - val_accuracy: 0.9315 - val_loss: 0.3014\n",
      "Epoch 132/200\n",
      "\u001b[1m650/650\u001b[0m \u001b[32m━━━━━━━━━━━━━━━━━━━━\u001b[0m\u001b[37m\u001b[0m \u001b[1m2s\u001b[0m 4ms/step - accuracy: 0.9794 - loss: 0.0624 - val_accuracy: 0.9381 - val_loss: 0.2438\n",
      "Epoch 133/200\n",
      "\u001b[1m650/650\u001b[0m \u001b[32m━━━━━━━━━━━━━━━━━━━━\u001b[0m\u001b[37m\u001b[0m \u001b[1m3s\u001b[0m 4ms/step - accuracy: 0.9786 - loss: 0.0689 - val_accuracy: 0.9302 - val_loss: 0.3029\n",
      "Epoch 134/200\n",
      "\u001b[1m650/650\u001b[0m \u001b[32m━━━━━━━━━━━━━━━━━━━━\u001b[0m\u001b[37m\u001b[0m \u001b[1m2s\u001b[0m 4ms/step - accuracy: 0.9786 - loss: 0.0668 - val_accuracy: 0.9273 - val_loss: 0.3133\n",
      "Epoch 135/200\n",
      "\u001b[1m650/650\u001b[0m \u001b[32m━━━━━━━━━━━━━━━━━━━━\u001b[0m\u001b[37m\u001b[0m \u001b[1m2s\u001b[0m 4ms/step - accuracy: 0.9770 - loss: 0.0714 - val_accuracy: 0.9309 - val_loss: 0.2934\n",
      "Epoch 136/200\n",
      "\u001b[1m650/650\u001b[0m \u001b[32m━━━━━━━━━━━━━━━━━━━━\u001b[0m\u001b[37m\u001b[0m \u001b[1m3s\u001b[0m 4ms/step - accuracy: 0.9776 - loss: 0.0672 - val_accuracy: 0.9381 - val_loss: 0.2734\n",
      "Epoch 137/200\n",
      "\u001b[1m650/650\u001b[0m \u001b[32m━━━━━━━━━━━━━━━━━━━━\u001b[0m\u001b[37m\u001b[0m \u001b[1m2s\u001b[0m 4ms/step - accuracy: 0.9807 - loss: 0.0606 - val_accuracy: 0.9361 - val_loss: 0.3061\n",
      "Epoch 138/200\n",
      "\u001b[1m650/650\u001b[0m \u001b[32m━━━━━━━━━━━━━━━━━━━━\u001b[0m\u001b[37m\u001b[0m \u001b[1m2s\u001b[0m 4ms/step - accuracy: 0.9782 - loss: 0.0754 - val_accuracy: 0.9406 - val_loss: 0.2558\n",
      "Epoch 139/200\n",
      "\u001b[1m650/650\u001b[0m \u001b[32m━━━━━━━━━━━━━━━━━━━━\u001b[0m\u001b[37m\u001b[0m \u001b[1m2s\u001b[0m 4ms/step - accuracy: 0.9805 - loss: 0.0574 - val_accuracy: 0.9306 - val_loss: 0.3013\n",
      "Epoch 140/200\n",
      "\u001b[1m650/650\u001b[0m \u001b[32m━━━━━━━━━━━━━━━━━━━━\u001b[0m\u001b[37m\u001b[0m \u001b[1m2s\u001b[0m 4ms/step - accuracy: 0.9807 - loss: 0.0630 - val_accuracy: 0.9381 - val_loss: 0.2435\n",
      "Epoch 141/200\n",
      "\u001b[1m650/650\u001b[0m \u001b[32m━━━━━━━━━━━━━━━━━━━━\u001b[0m\u001b[37m\u001b[0m \u001b[1m2s\u001b[0m 4ms/step - accuracy: 0.9814 - loss: 0.0588 - val_accuracy: 0.9306 - val_loss: 0.3174\n",
      "Epoch 142/200\n",
      "\u001b[1m650/650\u001b[0m \u001b[32m━━━━━━━━━━━━━━━━━━━━\u001b[0m\u001b[37m\u001b[0m \u001b[1m2s\u001b[0m 4ms/step - accuracy: 0.9780 - loss: 0.0675 - val_accuracy: 0.9381 - val_loss: 0.2602\n",
      "Epoch 143/200\n",
      "\u001b[1m650/650\u001b[0m \u001b[32m━━━━━━━━━━━━━━━━━━━━\u001b[0m\u001b[37m\u001b[0m \u001b[1m2s\u001b[0m 4ms/step - accuracy: 0.9808 - loss: 0.0585 - val_accuracy: 0.9290 - val_loss: 0.3216\n",
      "Epoch 144/200\n",
      "\u001b[1m650/650\u001b[0m \u001b[32m━━━━━━━━━━━━━━━━━━━━\u001b[0m\u001b[37m\u001b[0m \u001b[1m2s\u001b[0m 4ms/step - accuracy: 0.9821 - loss: 0.0548 - val_accuracy: 0.9255 - val_loss: 0.3187\n",
      "Epoch 145/200\n",
      "\u001b[1m650/650\u001b[0m \u001b[32m━━━━━━━━━━━━━━━━━━━━\u001b[0m\u001b[37m\u001b[0m \u001b[1m2s\u001b[0m 4ms/step - accuracy: 0.9777 - loss: 0.0670 - val_accuracy: 0.9323 - val_loss: 0.2911\n",
      "Epoch 146/200\n",
      "\u001b[1m650/650\u001b[0m \u001b[32m━━━━━━━━━━━━━━━━━━━━\u001b[0m\u001b[37m\u001b[0m \u001b[1m2s\u001b[0m 4ms/step - accuracy: 0.9805 - loss: 0.0608 - val_accuracy: 0.9379 - val_loss: 0.2569\n",
      "Epoch 147/200\n",
      "\u001b[1m650/650\u001b[0m \u001b[32m━━━━━━━━━━━━━━━━━━━━\u001b[0m\u001b[37m\u001b[0m \u001b[1m2s\u001b[0m 4ms/step - accuracy: 0.9782 - loss: 0.0734 - val_accuracy: 0.9327 - val_loss: 0.2811\n",
      "Epoch 148/200\n",
      "\u001b[1m650/650\u001b[0m \u001b[32m━━━━━━━━━━━━━━━━━━━━\u001b[0m\u001b[37m\u001b[0m \u001b[1m2s\u001b[0m 4ms/step - accuracy: 0.9772 - loss: 0.0686 - val_accuracy: 0.9359 - val_loss: 0.2720\n",
      "Epoch 149/200\n",
      "\u001b[1m650/650\u001b[0m \u001b[32m━━━━━━━━━━━━━━━━━━━━\u001b[0m\u001b[37m\u001b[0m \u001b[1m3s\u001b[0m 4ms/step - accuracy: 0.9796 - loss: 0.0626 - val_accuracy: 0.9321 - val_loss: 0.2802\n",
      "Epoch 150/200\n",
      "\u001b[1m650/650\u001b[0m \u001b[32m━━━━━━━━━━━━━━━━━━━━\u001b[0m\u001b[37m\u001b[0m \u001b[1m2s\u001b[0m 4ms/step - accuracy: 0.9791 - loss: 0.0661 - val_accuracy: 0.9329 - val_loss: 0.2916\n",
      "Epoch 151/200\n",
      "\u001b[1m650/650\u001b[0m \u001b[32m━━━━━━━━━━━━━━━━━━━━\u001b[0m\u001b[37m\u001b[0m \u001b[1m2s\u001b[0m 4ms/step - accuracy: 0.9814 - loss: 0.0551 - val_accuracy: 0.9269 - val_loss: 0.2850\n",
      "Epoch 152/200\n",
      "\u001b[1m650/650\u001b[0m \u001b[32m━━━━━━━━━━━━━━━━━━━━\u001b[0m\u001b[37m\u001b[0m \u001b[1m2s\u001b[0m 4ms/step - accuracy: 0.9806 - loss: 0.0626 - val_accuracy: 0.9254 - val_loss: 0.3231\n",
      "Epoch 153/200\n",
      "\u001b[1m650/650\u001b[0m \u001b[32m━━━━━━━━━━━━━━━━━━━━\u001b[0m\u001b[37m\u001b[0m \u001b[1m2s\u001b[0m 4ms/step - accuracy: 0.9827 - loss: 0.0510 - val_accuracy: 0.9411 - val_loss: 0.2479\n",
      "Epoch 154/200\n",
      "\u001b[1m650/650\u001b[0m \u001b[32m━━━━━━━━━━━━━━━━━━━━\u001b[0m\u001b[37m\u001b[0m \u001b[1m2s\u001b[0m 4ms/step - accuracy: 0.9777 - loss: 0.0720 - val_accuracy: 0.9381 - val_loss: 0.2781\n",
      "Epoch 155/200\n",
      "\u001b[1m650/650\u001b[0m \u001b[32m━━━━━━━━━━━━━━━━━━━━\u001b[0m\u001b[37m\u001b[0m \u001b[1m2s\u001b[0m 4ms/step - accuracy: 0.9805 - loss: 0.0614 - val_accuracy: 0.9344 - val_loss: 0.3233\n",
      "Epoch 156/200\n",
      "\u001b[1m650/650\u001b[0m \u001b[32m━━━━━━━━━━━━━━━━━━━━\u001b[0m\u001b[37m\u001b[0m \u001b[1m2s\u001b[0m 4ms/step - accuracy: 0.9823 - loss: 0.0566 - val_accuracy: 0.9319 - val_loss: 0.2588\n",
      "Epoch 157/200\n",
      "\u001b[1m650/650\u001b[0m \u001b[32m━━━━━━━━━━━━━━━━━━━━\u001b[0m\u001b[37m\u001b[0m \u001b[1m2s\u001b[0m 4ms/step - accuracy: 0.9806 - loss: 0.0655 - val_accuracy: 0.9277 - val_loss: 0.2696\n",
      "Epoch 158/200\n",
      "\u001b[1m650/650\u001b[0m \u001b[32m━━━━━━━━━━━━━━━━━━━━\u001b[0m\u001b[37m\u001b[0m \u001b[1m2s\u001b[0m 4ms/step - accuracy: 0.9778 - loss: 0.0704 - val_accuracy: 0.9436 - val_loss: 0.2321\n",
      "Epoch 159/200\n",
      "\u001b[1m650/650\u001b[0m \u001b[32m━━━━━━━━━━━━━━━━━━━━\u001b[0m\u001b[37m\u001b[0m \u001b[1m2s\u001b[0m 4ms/step - accuracy: 0.9804 - loss: 0.0604 - val_accuracy: 0.9332 - val_loss: 0.3004\n",
      "Epoch 160/200\n",
      "\u001b[1m650/650\u001b[0m \u001b[32m━━━━━━━━━━━━━━━━━━━━\u001b[0m\u001b[37m\u001b[0m \u001b[1m2s\u001b[0m 4ms/step - accuracy: 0.9812 - loss: 0.0613 - val_accuracy: 0.9109 - val_loss: 0.3985\n",
      "Epoch 161/200\n",
      "\u001b[1m650/650\u001b[0m \u001b[32m━━━━━━━━━━━━━━━━━━━━\u001b[0m\u001b[37m\u001b[0m \u001b[1m2s\u001b[0m 4ms/step - accuracy: 0.9811 - loss: 0.0605 - val_accuracy: 0.9373 - val_loss: 0.2772\n",
      "Epoch 162/200\n",
      "\u001b[1m650/650\u001b[0m \u001b[32m━━━━━━━━━━━━━━━━━━━━\u001b[0m\u001b[37m\u001b[0m \u001b[1m3s\u001b[0m 4ms/step - accuracy: 0.9817 - loss: 0.0592 - val_accuracy: 0.9315 - val_loss: 0.2871\n",
      "Epoch 163/200\n",
      "\u001b[1m650/650\u001b[0m \u001b[32m━━━━━━━━━━━━━━━━━━━━\u001b[0m\u001b[37m\u001b[0m \u001b[1m2s\u001b[0m 4ms/step - accuracy: 0.9781 - loss: 0.0634 - val_accuracy: 0.9429 - val_loss: 0.2058\n",
      "Epoch 164/200\n",
      "\u001b[1m650/650\u001b[0m \u001b[32m━━━━━━━━━━━━━━━━━━━━\u001b[0m\u001b[37m\u001b[0m \u001b[1m2s\u001b[0m 4ms/step - accuracy: 0.9785 - loss: 0.0627 - val_accuracy: 0.9294 - val_loss: 0.3058\n",
      "Epoch 165/200\n",
      "\u001b[1m650/650\u001b[0m \u001b[32m━━━━━━━━━━━━━━━━━━━━\u001b[0m\u001b[37m\u001b[0m \u001b[1m2s\u001b[0m 4ms/step - accuracy: 0.9822 - loss: 0.0589 - val_accuracy: 0.9398 - val_loss: 0.2260\n",
      "Epoch 166/200\n",
      "\u001b[1m650/650\u001b[0m \u001b[32m━━━━━━━━━━━━━━━━━━━━\u001b[0m\u001b[37m\u001b[0m \u001b[1m2s\u001b[0m 4ms/step - accuracy: 0.9813 - loss: 0.0574 - val_accuracy: 0.9306 - val_loss: 0.2596\n",
      "Epoch 167/200\n",
      "\u001b[1m650/650\u001b[0m \u001b[32m━━━━━━━━━━━━━━━━━━━━\u001b[0m\u001b[37m\u001b[0m \u001b[1m2s\u001b[0m 4ms/step - accuracy: 0.9800 - loss: 0.0614 - val_accuracy: 0.9382 - val_loss: 0.2541\n",
      "Epoch 168/200\n",
      "\u001b[1m650/650\u001b[0m \u001b[32m━━━━━━━━━━━━━━━━━━━━\u001b[0m\u001b[37m\u001b[0m \u001b[1m2s\u001b[0m 4ms/step - accuracy: 0.9816 - loss: 0.0617 - val_accuracy: 0.9427 - val_loss: 0.2769\n",
      "Epoch 169/200\n",
      "\u001b[1m650/650\u001b[0m \u001b[32m━━━━━━━━━━━━━━━━━━━━\u001b[0m\u001b[37m\u001b[0m \u001b[1m2s\u001b[0m 4ms/step - accuracy: 0.9808 - loss: 0.0588 - val_accuracy: 0.9338 - val_loss: 0.2921\n",
      "Epoch 170/200\n",
      "\u001b[1m650/650\u001b[0m \u001b[32m━━━━━━━━━━━━━━━━━━━━\u001b[0m\u001b[37m\u001b[0m \u001b[1m2s\u001b[0m 4ms/step - accuracy: 0.9814 - loss: 0.0652 - val_accuracy: 0.9332 - val_loss: 0.2846\n",
      "Epoch 171/200\n",
      "\u001b[1m650/650\u001b[0m \u001b[32m━━━━━━━━━━━━━━━━━━━━\u001b[0m\u001b[37m\u001b[0m \u001b[1m2s\u001b[0m 4ms/step - accuracy: 0.9797 - loss: 0.0673 - val_accuracy: 0.9336 - val_loss: 0.2691\n",
      "Epoch 172/200\n",
      "\u001b[1m650/650\u001b[0m \u001b[32m━━━━━━━━━━━━━━━━━━━━\u001b[0m\u001b[37m\u001b[0m \u001b[1m2s\u001b[0m 4ms/step - accuracy: 0.9836 - loss: 0.0564 - val_accuracy: 0.9384 - val_loss: 0.2567\n",
      "Epoch 173/200\n",
      "\u001b[1m650/650\u001b[0m \u001b[32m━━━━━━━━━━━━━━━━━━━━\u001b[0m\u001b[37m\u001b[0m \u001b[1m2s\u001b[0m 4ms/step - accuracy: 0.9788 - loss: 0.0633 - val_accuracy: 0.9311 - val_loss: 0.2976\n",
      "Epoch 174/200\n",
      "\u001b[1m650/650\u001b[0m \u001b[32m━━━━━━━━━━━━━━━━━━━━\u001b[0m\u001b[37m\u001b[0m \u001b[1m2s\u001b[0m 4ms/step - accuracy: 0.9815 - loss: 0.0596 - val_accuracy: 0.9438 - val_loss: 0.2136\n",
      "Epoch 175/200\n",
      "\u001b[1m650/650\u001b[0m \u001b[32m━━━━━━━━━━━━━━━━━━━━\u001b[0m\u001b[37m\u001b[0m \u001b[1m2s\u001b[0m 4ms/step - accuracy: 0.9826 - loss: 0.0612 - val_accuracy: 0.9342 - val_loss: 0.2813\n",
      "Epoch 176/200\n",
      "\u001b[1m650/650\u001b[0m \u001b[32m━━━━━━━━━━━━━━━━━━━━\u001b[0m\u001b[37m\u001b[0m \u001b[1m2s\u001b[0m 4ms/step - accuracy: 0.9825 - loss: 0.0588 - val_accuracy: 0.9446 - val_loss: 0.2680\n",
      "Epoch 177/200\n",
      "\u001b[1m650/650\u001b[0m \u001b[32m━━━━━━━━━━━━━━━━━━━━\u001b[0m\u001b[37m\u001b[0m \u001b[1m2s\u001b[0m 4ms/step - accuracy: 0.9836 - loss: 0.0560 - val_accuracy: 0.9277 - val_loss: 0.3299\n",
      "Epoch 178/200\n",
      "\u001b[1m650/650\u001b[0m \u001b[32m━━━━━━━━━━━━━━━━━━━━\u001b[0m\u001b[37m\u001b[0m \u001b[1m2s\u001b[0m 4ms/step - accuracy: 0.9810 - loss: 0.0612 - val_accuracy: 0.9234 - val_loss: 0.3461\n",
      "Epoch 179/200\n",
      "\u001b[1m650/650\u001b[0m \u001b[32m━━━━━━━━━━━━━━━━━━━━\u001b[0m\u001b[37m\u001b[0m \u001b[1m2s\u001b[0m 4ms/step - accuracy: 0.9820 - loss: 0.0563 - val_accuracy: 0.9188 - val_loss: 0.3577\n",
      "Epoch 180/200\n",
      "\u001b[1m650/650\u001b[0m \u001b[32m━━━━━━━━━━━━━━━━━━━━\u001b[0m\u001b[37m\u001b[0m \u001b[1m2s\u001b[0m 4ms/step - accuracy: 0.9796 - loss: 0.0648 - val_accuracy: 0.9338 - val_loss: 0.2751\n",
      "Epoch 181/200\n",
      "\u001b[1m650/650\u001b[0m \u001b[32m━━━━━━━━━━━━━━━━━━━━\u001b[0m\u001b[37m\u001b[0m \u001b[1m2s\u001b[0m 4ms/step - accuracy: 0.9823 - loss: 0.0610 - val_accuracy: 0.9359 - val_loss: 0.2463\n",
      "Epoch 182/200\n",
      "\u001b[1m650/650\u001b[0m \u001b[32m━━━━━━━━━━━━━━━━━━━━\u001b[0m\u001b[37m\u001b[0m \u001b[1m2s\u001b[0m 4ms/step - accuracy: 0.9831 - loss: 0.0555 - val_accuracy: 0.9394 - val_loss: 0.2498\n",
      "Epoch 183/200\n",
      "\u001b[1m650/650\u001b[0m \u001b[32m━━━━━━━━━━━━━━━━━━━━\u001b[0m\u001b[37m\u001b[0m \u001b[1m2s\u001b[0m 4ms/step - accuracy: 0.9829 - loss: 0.0529 - val_accuracy: 0.9429 - val_loss: 0.2246\n",
      "Epoch 184/200\n",
      "\u001b[1m650/650\u001b[0m \u001b[32m━━━━━━━━━━━━━━━━━━━━\u001b[0m\u001b[37m\u001b[0m \u001b[1m2s\u001b[0m 4ms/step - accuracy: 0.9837 - loss: 0.0539 - val_accuracy: 0.9340 - val_loss: 0.2562\n",
      "Epoch 185/200\n",
      "\u001b[1m650/650\u001b[0m \u001b[32m━━━━━━━━━━━━━━━━━━━━\u001b[0m\u001b[37m\u001b[0m \u001b[1m2s\u001b[0m 4ms/step - accuracy: 0.9808 - loss: 0.0590 - val_accuracy: 0.9290 - val_loss: 0.3205\n",
      "Epoch 186/200\n",
      "\u001b[1m650/650\u001b[0m \u001b[32m━━━━━━━━━━━━━━━━━━━━\u001b[0m\u001b[37m\u001b[0m \u001b[1m2s\u001b[0m 4ms/step - accuracy: 0.9830 - loss: 0.0583 - val_accuracy: 0.9267 - val_loss: 0.3144\n",
      "Epoch 187/200\n",
      "\u001b[1m650/650\u001b[0m \u001b[32m━━━━━━━━━━━━━━━━━━━━\u001b[0m\u001b[37m\u001b[0m \u001b[1m2s\u001b[0m 4ms/step - accuracy: 0.9820 - loss: 0.0599 - val_accuracy: 0.9384 - val_loss: 0.2707\n",
      "Epoch 188/200\n",
      "\u001b[1m650/650\u001b[0m \u001b[32m━━━━━━━━━━━━━━━━━━━━\u001b[0m\u001b[37m\u001b[0m \u001b[1m2s\u001b[0m 4ms/step - accuracy: 0.9827 - loss: 0.0595 - val_accuracy: 0.9357 - val_loss: 0.2662\n",
      "Epoch 189/200\n",
      "\u001b[1m650/650\u001b[0m \u001b[32m━━━━━━━━━━━━━━━━━━━━\u001b[0m\u001b[37m\u001b[0m \u001b[1m2s\u001b[0m 4ms/step - accuracy: 0.9833 - loss: 0.0543 - val_accuracy: 0.9367 - val_loss: 0.2806\n",
      "Epoch 190/200\n",
      "\u001b[1m650/650\u001b[0m \u001b[32m━━━━━━━━━━━━━━━━━━━━\u001b[0m\u001b[37m\u001b[0m \u001b[1m2s\u001b[0m 4ms/step - accuracy: 0.9830 - loss: 0.0572 - val_accuracy: 0.9230 - val_loss: 0.3634\n",
      "Epoch 191/200\n",
      "\u001b[1m650/650\u001b[0m \u001b[32m━━━━━━━━━━━━━━━━━━━━\u001b[0m\u001b[37m\u001b[0m \u001b[1m2s\u001b[0m 4ms/step - accuracy: 0.9818 - loss: 0.0607 - val_accuracy: 0.9271 - val_loss: 0.2914\n",
      "Epoch 192/200\n",
      "\u001b[1m650/650\u001b[0m \u001b[32m━━━━━━━━━━━━━━━━━━━━\u001b[0m\u001b[37m\u001b[0m \u001b[1m2s\u001b[0m 4ms/step - accuracy: 0.9829 - loss: 0.0598 - val_accuracy: 0.9327 - val_loss: 0.2622\n",
      "Epoch 193/200\n",
      "\u001b[1m650/650\u001b[0m \u001b[32m━━━━━━━━━━━━━━━━━━━━\u001b[0m\u001b[37m\u001b[0m \u001b[1m2s\u001b[0m 4ms/step - accuracy: 0.9799 - loss: 0.0657 - val_accuracy: 0.9356 - val_loss: 0.2613\n",
      "Epoch 194/200\n",
      "\u001b[1m650/650\u001b[0m \u001b[32m━━━━━━━━━━━━━━━━━━━━\u001b[0m\u001b[37m\u001b[0m \u001b[1m2s\u001b[0m 4ms/step - accuracy: 0.9804 - loss: 0.0637 - val_accuracy: 0.9359 - val_loss: 0.2921\n",
      "Epoch 195/200\n",
      "\u001b[1m650/650\u001b[0m \u001b[32m━━━━━━━━━━━━━━━━━━━━\u001b[0m\u001b[37m\u001b[0m \u001b[1m2s\u001b[0m 4ms/step - accuracy: 0.9807 - loss: 0.0660 - val_accuracy: 0.9344 - val_loss: 0.2879\n",
      "Epoch 196/200\n",
      "\u001b[1m650/650\u001b[0m \u001b[32m━━━━━━━━━━━━━━━━━━━━\u001b[0m\u001b[37m\u001b[0m \u001b[1m2s\u001b[0m 4ms/step - accuracy: 0.9839 - loss: 0.0525 - val_accuracy: 0.9292 - val_loss: 0.2889\n",
      "Epoch 197/200\n",
      "\u001b[1m650/650\u001b[0m \u001b[32m━━━━━━━━━━━━━━━━━━━━\u001b[0m\u001b[37m\u001b[0m \u001b[1m2s\u001b[0m 4ms/step - accuracy: 0.9832 - loss: 0.0555 - val_accuracy: 0.9271 - val_loss: 0.2913\n",
      "Epoch 198/200\n",
      "\u001b[1m650/650\u001b[0m \u001b[32m━━━━━━━━━━━━━━━━━━━━\u001b[0m\u001b[37m\u001b[0m \u001b[1m2s\u001b[0m 4ms/step - accuracy: 0.9797 - loss: 0.0619 - val_accuracy: 0.9317 - val_loss: 0.2678\n",
      "Epoch 199/200\n",
      "\u001b[1m650/650\u001b[0m \u001b[32m━━━━━━━━━━━━━━━━━━━━\u001b[0m\u001b[37m\u001b[0m \u001b[1m2s\u001b[0m 4ms/step - accuracy: 0.9826 - loss: 0.0557 - val_accuracy: 0.9204 - val_loss: 0.3318\n",
      "Epoch 200/200\n",
      "\u001b[1m650/650\u001b[0m \u001b[32m━━━━━━━━━━━━━━━━━━━━\u001b[0m\u001b[37m\u001b[0m \u001b[1m2s\u001b[0m 4ms/step - accuracy: 0.9832 - loss: 0.0547 - val_accuracy: 0.9325 - val_loss: 0.2864\n"
     ]
    }
   ],
   "source": [
    "model = Sequential([\n",
    "    Conv1D(64, kernel_size=3, activation='relu', input_shape=(X_train.shape[1], X_train.shape[2])),\n",
    "    BatchNormalization(),\n",
    "    MaxPooling1D(pool_size=2),\n",
    "    Dropout(0.3),\n",
    "\n",
    "    Conv1D(128, kernel_size=3, activation='relu'),\n",
    "    BatchNormalization(),\n",
    "    MaxPooling1D(pool_size=2),\n",
    "    Dropout(0.3),\n",
    "\n",
    "    Flatten(),\n",
    "    Dense(128, activation='relu'),\n",
    "    Dropout(0.3),\n",
    "    Dense(len(np.unique(y_encoded)), activation='softmax')\n",
    "])\n",
    "\n",
    "model.compile(loss='categorical_crossentropy', optimizer=Adam(0.001), metrics=['accuracy'])\n",
    "model.summary()\n",
    "\n",
    "history = model.fit(X_train, y_train, \n",
    "                    validation_data=(X_test, y_test),\n",
    "                    epochs=200, \n",
    "                    batch_size=32, \n",
    "                    verbose=1)\n"
   ]
  },
  {
   "cell_type": "markdown",
   "metadata": {},
   "source": [
    "После обучения оценим качество модели:\n",
    "1. Точность на обучающей и тестовой выборках\n",
    "2. Графики обучения\n",
    "3. Матрицу ошибок"
   ]
  },
  {
   "cell_type": "code",
   "execution_count": 5,
   "metadata": {
    "colab": {
     "base_uri": "https://localhost:8080/",
     "height": 974
    },
    "execution": {
     "iopub.execute_input": "2025-05-25T23:27:09.507730Z",
     "iopub.status.busy": "2025-05-25T23:27:09.507479Z",
     "iopub.status.idle": "2025-05-25T23:27:11.242965Z",
     "shell.execute_reply": "2025-05-25T23:27:11.242017Z",
     "shell.execute_reply.started": "2025-05-25T23:27:09.507713Z"
    },
    "id": "DhnSkXhjIas_",
    "outputId": "f1272ca6-776d-4630-cd1c-a7ee5dd375f0",
    "trusted": true
   },
   "outputs": [
    {
     "name": "stdout",
     "output_type": "stream",
     "text": [
      "Точность на тренировочной выборке: 98.36%\n",
      "Точность на тестовой выборке: 93.25%\n"
     ]
    },
    {
     "data": {
      "image/png": "[encoded data removed]",
      "text/plain": [
       "<Figure size 640x480 with 1 Axes>"
      ]
     },
     "metadata": {},
     "output_type": "display_data"
    },
    {
     "name": "stdout",
     "output_type": "stream",
     "text": [
      "\u001b[1m163/163\u001b[0m \u001b[32m━━━━━━━━━━━━━━━━━━━━\u001b[0m\u001b[37m\u001b[0m \u001b[1m1s\u001b[0m 4ms/step\n"
     ]
    },
    {
     "data": {
      "image/png": "[encoded data removed]",
      "text/plain": [
       "<Figure size 640x480 with 2 Axes>"
      ]
     },
     "metadata": {},
     "output_type": "display_data"
    }
   ],
   "source": [
    "# Точность\n",
    "train_acc = history.history['accuracy'][-1]\n",
    "val_acc = history.history['val_accuracy'][-1]\n",
    "print(f\"Точность на тренировочной выборке: {train_acc:.2%}\")\n",
    "print(f\"Точность на тестовой выборке: {val_acc:.2%}\")\n",
    "\n",
    "# График обучения\n",
    "plt.plot(history.history['accuracy'], label='Точность на тренировочной выборке')\n",
    "plt.plot(history.history['val_accuracy'], label='Точность на тестовой выборке')\n",
    "plt.title(\"Зависимость точности модели от эпохи\")\n",
    "plt.legend()\n",
    "plt.grid()\n",
    "plt.show()\n",
    "\n",
    "# Матрица ошибок\n",
    "y_pred = model.predict(X_test)\n",
    "y_pred_classes = np.argmax(y_pred, axis=1)\n",
    "y_true = np.argmax(y_test, axis=1)\n",
    "\n",
    "cm = confusion_matrix(y_true, y_pred_classes)\n",
    "disp = ConfusionMatrixDisplay(confusion_matrix=cm, display_labels=le.classes_)\n",
    "disp.plot(xticks_rotation=45)\n",
    "plt.show()\n"
   ]
  }
 ],
 "metadata": {
  "accelerator": "GPU",
  "colab": {
   "provenance": []
  },
  "kaggle": {
   "accelerator": "gpu",
   "dataSources": [
    {
     "datasetId": 7513478,
     "sourceId": 11950949,
     "sourceType": "datasetVersion"
    }
   ],
   "dockerImageVersionId": 31040,
   "isGpuEnabled": true,
   "isInternetEnabled": false,
   "language": "python",
   "sourceType": "notebook"
  },
  "kernelspec": {
   "display_name": "Neural_Networks",
   "language": "python",
   "name": "python3"
  },
  "language_info": {
   "codemirror_mode": {
    "name": "ipython",
    "version": 3
   },
   "file_extension": ".py",
   "mimetype": "text/x-python",
   "name": "python",
   "nbconvert_exporter": "python",
   "pygments_lexer": "ipython3",
   "version": "3.11.11"
  }
 },
 "nbformat": 4,
 "nbformat_minor": 4
}
